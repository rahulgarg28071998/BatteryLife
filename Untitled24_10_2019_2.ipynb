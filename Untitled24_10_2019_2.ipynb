{
 "cells": [
  {
   "cell_type": "code",
   "execution_count": 1,
   "metadata": {},
   "outputs": [],
   "source": [
    "import numpy as np\n",
    "import pandas as pd\n",
    "from sklearn import preprocessing\n",
    "from datetime import datetime\n",
    "import seaborn as sns"
   ]
  },
  {
   "cell_type": "code",
   "execution_count": 2,
   "metadata": {},
   "outputs": [],
   "source": [
    "data = pd.read_csv(\"866817034014258.csv\")\n"
   ]
  },
  {
   "cell_type": "code",
   "execution_count": 3,
   "metadata": {},
   "outputs": [
    {
     "data": {
      "image/png": "[encoded data removed]",
      "text/plain": [
       "<Figure size 432x288 with 2 Axes>"
      ]
     },
     "metadata": {
      "needs_background": "light"
     },
     "output_type": "display_data"
    }
   ],
   "source": [
    "corr = data.corr()\n",
    "ax = sns.heatmap(\n",
    "    corr, \n",
    "    vmin=-1, vmax=1, center=0,\n",
    "    cmap=sns.diverging_palette(20, 220, n=200),\n",
    "    square=True\n",
    ")\n",
    "ax.set_xticklabels(\n",
    "    ax.get_xticklabels(),\n",
    "    rotation=45,\n",
    "    horizontalalignment='right'\n",
    ");"
   ]
  },
  {
   "cell_type": "code",
   "execution_count": 4,
   "metadata": {},
   "outputs": [
    {
     "name": "stdout",
     "output_type": "stream",
     "text": [
      "<class 'pandas.core.frame.DataFrame'>\n",
      "RangeIndex: 344019 entries, 0 to 344018\n",
      "Data columns (total 18 columns):\n",
      "866817034014258          344019 non-null int64\n",
      "OnePlus ONEPLUS A5010    344013 non-null object\n",
      "9                        344013 non-null float64\n",
      "Li-ion                   344019 non-null object\n",
      "3300.0                   344019 non-null float64\n",
      "1570600057007            344019 non-null int64\n",
      "true                     344019 non-null bool\n",
      "18                       344019 non-null int64\n",
      "com.zopper.batteryage    344019 non-null object\n",
      "0                        344019 non-null int64\n",
      "26.8                     344019 non-null float64\n",
      "3698                     344019 non-null int64\n",
      "840                      344019 non-null int64\n",
      "mobile                   344019 non-null object\n",
      "false                    344019 non-null bool\n",
      "Unnamed: 15              0 non-null float64\n",
      "Unnamed: 16              0 non-null float64\n",
      "Unnamed: 17              0 non-null float64\n",
      "dtypes: bool(2), float64(6), int64(6), object(4)\n",
      "memory usage: 42.7+ MB\n"
     ]
    }
   ],
   "source": [
    "data.info()"
   ]
  },
  {
   "cell_type": "markdown",
   "metadata": {},
   "source": [
    "FIELD NAMES \n",
    "\n",
    "1. IMEI Number - Unique identifier of the phone \n",
    "2. Phone Model \n",
    "3. Android Version\n",
    "4. Battery Technology: e.g. Li-ion, Li-poly etc.\n",
    "5. Battery Capacity: Original Capacity of the battery when phone was purchased\n",
    "6. Timestamp: Timestamp when the data was collected (need to convert this to IST)\n",
    "7. Screen Status: Whether the screen is on or off during the data collection time\n",
    "8. Battery Percentage: How much battery is remaining at the given point of data collection time\n",
    "9. App Running\n",
    "10. CPU Usage\n",
    "11. Battery Operating Temperature\n",
    "12. Battery Voltage\n",
    "13. Battery Current: How much current is flowing through the battery at a given point of time (See charging and discharging status from “Plugged In” column)\n",
    "14. Network Connected: e.g WiFi, LTE etc.\n",
    "15. Plugged In: Whether the charge is plugged in or not (False means discharging and True means discharging)"
   ]
  },
  {
   "cell_type": "code",
   "execution_count": 5,
   "metadata": {},
   "outputs": [
    {
     "data": {
      "text/html": [
       "<div>\n",
       "<style scoped>\n",
       "    .dataframe tbody tr th:only-of-type {\n",
       "        vertical-align: middle;\n",
       "    }\n",
       "\n",
       "    .dataframe tbody tr th {\n",
       "        vertical-align: top;\n",
       "    }\n",
       "\n",
       "    .dataframe thead th {\n",
       "        text-align: right;\n",
       "    }\n",
       "</style>\n",
       "<table border=\"1\" class=\"dataframe\">\n",
       "  <thead>\n",
       "    <tr style=\"text-align: right;\">\n",
       "      <th></th>\n",
       "      <th>866817034014258</th>\n",
       "      <th>OnePlus ONEPLUS A5010</th>\n",
       "      <th>9</th>\n",
       "      <th>Li-ion</th>\n",
       "      <th>3300.0</th>\n",
       "      <th>1570600057007</th>\n",
       "      <th>true</th>\n",
       "      <th>18</th>\n",
       "      <th>com.zopper.batteryage</th>\n",
       "      <th>0</th>\n",
       "      <th>26.8</th>\n",
       "      <th>3698</th>\n",
       "      <th>840</th>\n",
       "      <th>mobile</th>\n",
       "      <th>false</th>\n",
       "      <th>Unnamed: 15</th>\n",
       "      <th>Unnamed: 16</th>\n",
       "      <th>Unnamed: 17</th>\n",
       "    </tr>\n",
       "  </thead>\n",
       "  <tbody>\n",
       "    <tr>\n",
       "      <td>0</td>\n",
       "      <td>866817034014258</td>\n",
       "      <td>OnePlus ONEPLUS A5010</td>\n",
       "      <td>9.0</td>\n",
       "      <td>Li-ion</td>\n",
       "      <td>3300.0</td>\n",
       "      <td>1570600057179</td>\n",
       "      <td>True</td>\n",
       "      <td>18</td>\n",
       "      <td>com.zopper.batteryage</td>\n",
       "      <td>0</td>\n",
       "      <td>26.8</td>\n",
       "      <td>3698</td>\n",
       "      <td>840</td>\n",
       "      <td>mobile</td>\n",
       "      <td>False</td>\n",
       "      <td>NaN</td>\n",
       "      <td>NaN</td>\n",
       "      <td>NaN</td>\n",
       "    </tr>\n",
       "    <tr>\n",
       "      <td>1</td>\n",
       "      <td>866817034014258</td>\n",
       "      <td>OnePlus ONEPLUS A5010</td>\n",
       "      <td>9.0</td>\n",
       "      <td>Li-ion</td>\n",
       "      <td>3300.0</td>\n",
       "      <td>1570600057115</td>\n",
       "      <td>True</td>\n",
       "      <td>18</td>\n",
       "      <td>com.zopper.batteryage</td>\n",
       "      <td>0</td>\n",
       "      <td>26.8</td>\n",
       "      <td>3698</td>\n",
       "      <td>840</td>\n",
       "      <td>mobile</td>\n",
       "      <td>False</td>\n",
       "      <td>NaN</td>\n",
       "      <td>NaN</td>\n",
       "      <td>NaN</td>\n",
       "    </tr>\n",
       "    <tr>\n",
       "      <td>2</td>\n",
       "      <td>866817034014258</td>\n",
       "      <td>OnePlus ONEPLUS A5010</td>\n",
       "      <td>9.0</td>\n",
       "      <td>Li-ion</td>\n",
       "      <td>3300.0</td>\n",
       "      <td>1570600057205</td>\n",
       "      <td>True</td>\n",
       "      <td>18</td>\n",
       "      <td>com.zopper.batteryage</td>\n",
       "      <td>0</td>\n",
       "      <td>26.8</td>\n",
       "      <td>3698</td>\n",
       "      <td>840</td>\n",
       "      <td>mobile</td>\n",
       "      <td>False</td>\n",
       "      <td>NaN</td>\n",
       "      <td>NaN</td>\n",
       "      <td>NaN</td>\n",
       "    </tr>\n",
       "    <tr>\n",
       "      <td>3</td>\n",
       "      <td>866817034014258</td>\n",
       "      <td>OnePlus ONEPLUS A5010</td>\n",
       "      <td>9.0</td>\n",
       "      <td>Li-ion</td>\n",
       "      <td>3300.0</td>\n",
       "      <td>1570600057220</td>\n",
       "      <td>True</td>\n",
       "      <td>18</td>\n",
       "      <td>com.zopper.batteryage</td>\n",
       "      <td>0</td>\n",
       "      <td>26.8</td>\n",
       "      <td>3698</td>\n",
       "      <td>840</td>\n",
       "      <td>mobile</td>\n",
       "      <td>False</td>\n",
       "      <td>NaN</td>\n",
       "      <td>NaN</td>\n",
       "      <td>NaN</td>\n",
       "    </tr>\n",
       "    <tr>\n",
       "      <td>4</td>\n",
       "      <td>866817034014258</td>\n",
       "      <td>OnePlus ONEPLUS A5010</td>\n",
       "      <td>9.0</td>\n",
       "      <td>Li-ion</td>\n",
       "      <td>3300.0</td>\n",
       "      <td>1570600059237</td>\n",
       "      <td>True</td>\n",
       "      <td>18</td>\n",
       "      <td>com.zopper.batteryage</td>\n",
       "      <td>0</td>\n",
       "      <td>26.8</td>\n",
       "      <td>3698</td>\n",
       "      <td>840</td>\n",
       "      <td>mobile</td>\n",
       "      <td>False</td>\n",
       "      <td>NaN</td>\n",
       "      <td>NaN</td>\n",
       "      <td>NaN</td>\n",
       "    </tr>\n",
       "  </tbody>\n",
       "</table>\n",
       "</div>"
      ],
      "text/plain": [
       "   866817034014258  OnePlus ONEPLUS A5010    9  Li-ion  3300.0  1570600057007  \\\n",
       "0  866817034014258  OnePlus ONEPLUS A5010  9.0  Li-ion  3300.0  1570600057179   \n",
       "1  866817034014258  OnePlus ONEPLUS A5010  9.0  Li-ion  3300.0  1570600057115   \n",
       "2  866817034014258  OnePlus ONEPLUS A5010  9.0  Li-ion  3300.0  1570600057205   \n",
       "3  866817034014258  OnePlus ONEPLUS A5010  9.0  Li-ion  3300.0  1570600057220   \n",
       "4  866817034014258  OnePlus ONEPLUS A5010  9.0  Li-ion  3300.0  1570600059237   \n",
       "\n",
       "   true  18  com.zopper.batteryage  0  26.8  3698  840  mobile  false  \\\n",
       "0  True  18  com.zopper.batteryage  0  26.8  3698  840  mobile  False   \n",
       "1  True  18  com.zopper.batteryage  0  26.8  3698  840  mobile  False   \n",
       "2  True  18  com.zopper.batteryage  0  26.8  3698  840  mobile  False   \n",
       "3  True  18  com.zopper.batteryage  0  26.8  3698  840  mobile  False   \n",
       "4  True  18  com.zopper.batteryage  0  26.8  3698  840  mobile  False   \n",
       "\n",
       "   Unnamed: 15  Unnamed: 16  Unnamed: 17  \n",
       "0          NaN          NaN          NaN  \n",
       "1          NaN          NaN          NaN  \n",
       "2          NaN          NaN          NaN  \n",
       "3          NaN          NaN          NaN  \n",
       "4          NaN          NaN          NaN  "
      ]
     },
     "execution_count": 5,
     "metadata": {},
     "output_type": "execute_result"
    }
   ],
   "source": [
    "data.head()"
   ]
  },
  {
   "cell_type": "code",
   "execution_count": null,
   "metadata": {},
   "outputs": [],
   "source": []
  },
  {
   "cell_type": "code",
   "execution_count": 6,
   "metadata": {},
   "outputs": [],
   "source": [
    " #np.unique(data.iloc[:,11],return_counts=True)"
   ]
  },
  {
   "cell_type": "code",
   "execution_count": 7,
   "metadata": {},
   "outputs": [],
   "source": [
    "# data.replace(['none'], False,inplace=True)\n",
    "# data.replace(['wi-fi'],True,inplace=True)"
   ]
  },
  {
   "cell_type": "code",
   "execution_count": 8,
   "metadata": {},
   "outputs": [],
   "source": [
    "# #for samsungsm-a910f\n",
    "# timestamp = 1508308200\n",
    "\n",
    "# #\n",
    "# data.iloc[:,5] = data.iloc[:,5]-timestamp"
   ]
  },
  {
   "cell_type": "code",
   "execution_count": 9,
   "metadata": {},
   "outputs": [
    {
     "data": {
      "text/plain": [
       "datetime.datetime(2019, 10, 9, 11, 17, 37, 115000)"
      ]
     },
     "execution_count": 9,
     "metadata": {},
     "output_type": "execute_result"
    }
   ],
   "source": [
    "dt  = datetime.fromtimestamp(data.iloc[1,5]/1000)\n",
    "dt"
   ]
  },
  {
   "cell_type": "code",
   "execution_count": 10,
   "metadata": {},
   "outputs": [],
   "source": [
    "data_discharge = data[data.iloc[:,14]==False]\n",
    "data_charge = data[data.iloc[:,14]==True]"
   ]
  },
  {
   "cell_type": "code",
   "execution_count": 11,
   "metadata": {},
   "outputs": [],
   "source": [
    "data_charge  = data_charge.iloc[:,[4,5,6,7,10,11,12]]"
   ]
  },
  {
   "cell_type": "code",
   "execution_count": 12,
   "metadata": {},
   "outputs": [
    {
     "data": {
      "text/html": [
       "<div>\n",
       "<style scoped>\n",
       "    .dataframe tbody tr th:only-of-type {\n",
       "        vertical-align: middle;\n",
       "    }\n",
       "\n",
       "    .dataframe tbody tr th {\n",
       "        vertical-align: top;\n",
       "    }\n",
       "\n",
       "    .dataframe thead th {\n",
       "        text-align: right;\n",
       "    }\n",
       "</style>\n",
       "<table border=\"1\" class=\"dataframe\">\n",
       "  <thead>\n",
       "    <tr style=\"text-align: right;\">\n",
       "      <th></th>\n",
       "      <th>3300.0</th>\n",
       "      <th>1570600057007</th>\n",
       "      <th>true</th>\n",
       "      <th>18</th>\n",
       "      <th>26.8</th>\n",
       "      <th>3698</th>\n",
       "      <th>840</th>\n",
       "    </tr>\n",
       "  </thead>\n",
       "  <tbody>\n",
       "    <tr>\n",
       "      <td>9211</td>\n",
       "      <td>3300.0</td>\n",
       "      <td>1570612537629</td>\n",
       "      <td>False</td>\n",
       "      <td>1</td>\n",
       "      <td>31.8</td>\n",
       "      <td>3625</td>\n",
       "      <td>142</td>\n",
       "    </tr>\n",
       "    <tr>\n",
       "      <td>9212</td>\n",
       "      <td>3300.0</td>\n",
       "      <td>1570612537949</td>\n",
       "      <td>False</td>\n",
       "      <td>1</td>\n",
       "      <td>31.8</td>\n",
       "      <td>3625</td>\n",
       "      <td>142</td>\n",
       "    </tr>\n",
       "    <tr>\n",
       "      <td>9213</td>\n",
       "      <td>3300.0</td>\n",
       "      <td>1570612538956</td>\n",
       "      <td>False</td>\n",
       "      <td>1</td>\n",
       "      <td>31.8</td>\n",
       "      <td>3625</td>\n",
       "      <td>142</td>\n",
       "    </tr>\n",
       "    <tr>\n",
       "      <td>9214</td>\n",
       "      <td>3300.0</td>\n",
       "      <td>1570612539422</td>\n",
       "      <td>True</td>\n",
       "      <td>1</td>\n",
       "      <td>31.8</td>\n",
       "      <td>3682</td>\n",
       "      <td>507</td>\n",
       "    </tr>\n",
       "    <tr>\n",
       "      <td>9215</td>\n",
       "      <td>3300.0</td>\n",
       "      <td>1570612539660</td>\n",
       "      <td>True</td>\n",
       "      <td>1</td>\n",
       "      <td>31.8</td>\n",
       "      <td>3682</td>\n",
       "      <td>507</td>\n",
       "    </tr>\n",
       "  </tbody>\n",
       "</table>\n",
       "</div>"
      ],
      "text/plain": [
       "      3300.0  1570600057007   true  18  26.8  3698  840\n",
       "9211  3300.0  1570612537629  False   1  31.8  3625  142\n",
       "9212  3300.0  1570612537949  False   1  31.8  3625  142\n",
       "9213  3300.0  1570612538956  False   1  31.8  3625  142\n",
       "9214  3300.0  1570612539422   True   1  31.8  3682  507\n",
       "9215  3300.0  1570612539660   True   1  31.8  3682  507"
      ]
     },
     "execution_count": 12,
     "metadata": {},
     "output_type": "execute_result"
    }
   ],
   "source": [
    "data_charge.head()"
   ]
  },
  {
   "cell_type": "code",
   "execution_count": 13,
   "metadata": {},
   "outputs": [],
   "source": [
    "def data_clean(data):\n",
    "    data.replace(['none'], False,inplace=True)\n",
    "    data.replace(['wi-fi'],True,inplace=True)\n",
    "    \n",
    "    #data.iloc[:,4] = data.iloc[:,4]/1000\n",
    "    #data.iloc[:,7] = data.iloc[:,7]/100\n",
    "    #for samsungsm-a910f\n",
    "    #timestamp = 1508308200000\n",
    "    #2\n",
    "    #timestamp=1499668200000\n",
    "    #3\n",
    "    #timestamp = 1508913000000\n",
    "    #4\n",
    "    #timestamp = 1520663400000\n",
    "    \n",
    "    timestamp  = 1516788808000\n",
    "    data.iloc[:,5] = data.iloc[:,5]-timestamp\n",
    "    \n",
    "    \n",
    "    \n",
    "    data_discharge = data[data.iloc[:,14]==False]\n",
    "    data_charge = data[data.iloc[:,14]==True]\n",
    "    \n",
    "    data_charge = data_charge.iloc[:,[5,4,6,7,10,11,12]]\n",
    "    data_discharge = data_discharge.iloc[:,[5,4,6,7,10,11,12]]\n",
    "    \n",
    "    return data_charge,data_discharge"
   ]
  },
  {
   "cell_type": "code",
   "execution_count": 14,
   "metadata": {},
   "outputs": [],
   "source": [
    "x,y = data_clean(data)"
   ]
  },
  {
   "cell_type": "code",
   "execution_count": 15,
   "metadata": {},
   "outputs": [
    {
     "data": {
      "text/html": [
       "<div>\n",
       "<style scoped>\n",
       "    .dataframe tbody tr th:only-of-type {\n",
       "        vertical-align: middle;\n",
       "    }\n",
       "\n",
       "    .dataframe tbody tr th {\n",
       "        vertical-align: top;\n",
       "    }\n",
       "\n",
       "    .dataframe thead th {\n",
       "        text-align: right;\n",
       "    }\n",
       "</style>\n",
       "<table border=\"1\" class=\"dataframe\">\n",
       "  <thead>\n",
       "    <tr style=\"text-align: right;\">\n",
       "      <th></th>\n",
       "      <th>1570600057007</th>\n",
       "      <th>3300.0</th>\n",
       "      <th>true</th>\n",
       "      <th>18</th>\n",
       "      <th>26.8</th>\n",
       "      <th>3698</th>\n",
       "      <th>840</th>\n",
       "    </tr>\n",
       "  </thead>\n",
       "  <tbody>\n",
       "    <tr>\n",
       "      <td>0</td>\n",
       "      <td>53811249179</td>\n",
       "      <td>3300.0</td>\n",
       "      <td>True</td>\n",
       "      <td>18</td>\n",
       "      <td>26.8</td>\n",
       "      <td>3698</td>\n",
       "      <td>840</td>\n",
       "    </tr>\n",
       "    <tr>\n",
       "      <td>1</td>\n",
       "      <td>53811249115</td>\n",
       "      <td>3300.0</td>\n",
       "      <td>True</td>\n",
       "      <td>18</td>\n",
       "      <td>26.8</td>\n",
       "      <td>3698</td>\n",
       "      <td>840</td>\n",
       "    </tr>\n",
       "    <tr>\n",
       "      <td>2</td>\n",
       "      <td>53811249205</td>\n",
       "      <td>3300.0</td>\n",
       "      <td>True</td>\n",
       "      <td>18</td>\n",
       "      <td>26.8</td>\n",
       "      <td>3698</td>\n",
       "      <td>840</td>\n",
       "    </tr>\n",
       "    <tr>\n",
       "      <td>3</td>\n",
       "      <td>53811249220</td>\n",
       "      <td>3300.0</td>\n",
       "      <td>True</td>\n",
       "      <td>18</td>\n",
       "      <td>26.8</td>\n",
       "      <td>3698</td>\n",
       "      <td>840</td>\n",
       "    </tr>\n",
       "    <tr>\n",
       "      <td>4</td>\n",
       "      <td>53811251237</td>\n",
       "      <td>3300.0</td>\n",
       "      <td>True</td>\n",
       "      <td>18</td>\n",
       "      <td>26.8</td>\n",
       "      <td>3698</td>\n",
       "      <td>840</td>\n",
       "    </tr>\n",
       "  </tbody>\n",
       "</table>\n",
       "</div>"
      ],
      "text/plain": [
       "   1570600057007  3300.0  true  18  26.8  3698  840\n",
       "0    53811249179  3300.0  True  18  26.8  3698  840\n",
       "1    53811249115  3300.0  True  18  26.8  3698  840\n",
       "2    53811249205  3300.0  True  18  26.8  3698  840\n",
       "3    53811249220  3300.0  True  18  26.8  3698  840\n",
       "4    53811251237  3300.0  True  18  26.8  3698  840"
      ]
     },
     "execution_count": 15,
     "metadata": {},
     "output_type": "execute_result"
    }
   ],
   "source": [
    "y.head()\n",
    "# y.iloc[:,0]=y.iloc[:,0]-min(y.iloc[:,0])\n",
    "# x.iloc[:,0]=x.iloc[:,0]-min(x.iloc[:,0])"
   ]
  },
  {
   "cell_type": "code",
   "execution_count": 16,
   "metadata": {},
   "outputs": [],
   "source": [
    "#y.iloc[:,1:]\n",
    "ls = [0]\n",
    "ls2 = [0]\n",
    "dif = 0\n",
    "charge = 0\n",
    "for i in range(y.shape[0]-1):\n",
    "    #print(y.iloc[i+1,0])\n",
    "    charge+=(y.iloc[i+1,0]-y.iloc[i,0])*y.iloc[i,6]#*y.iloc[i,5]\n",
    "    \n",
    "    ls.append((y.iloc[i+1,0]-y.iloc[i,0]*y.iloc[i,6])/1000000)\n",
    "    if y.iloc[i,6]!=0:\n",
    "        ls2.append(y.iloc[i,5]/y.iloc[i,6])\n",
    "    else:\n",
    "        ls2.append(0)\n",
    "    if y.iloc[i,3]-y.iloc[i+1,3]==1:\n",
    "           dif+=1\n",
    "    if dif==102:\n",
    "        charge_limit = charge\n",
    "y['charge'] = ls\n",
    "y['v/i'] = ls2"
   ]
  },
  {
   "cell_type": "code",
   "execution_count": 17,
   "metadata": {},
   "outputs": [
    {
     "data": {
      "text/html": [
       "<div>\n",
       "<style scoped>\n",
       "    .dataframe tbody tr th:only-of-type {\n",
       "        vertical-align: middle;\n",
       "    }\n",
       "\n",
       "    .dataframe tbody tr th {\n",
       "        vertical-align: top;\n",
       "    }\n",
       "\n",
       "    .dataframe thead th {\n",
       "        text-align: right;\n",
       "    }\n",
       "</style>\n",
       "<table border=\"1\" class=\"dataframe\">\n",
       "  <thead>\n",
       "    <tr style=\"text-align: right;\">\n",
       "      <th></th>\n",
       "      <th>1570600057007</th>\n",
       "      <th>3300.0</th>\n",
       "      <th>true</th>\n",
       "      <th>18</th>\n",
       "      <th>26.8</th>\n",
       "      <th>3698</th>\n",
       "      <th>840</th>\n",
       "      <th>charge</th>\n",
       "      <th>v/i</th>\n",
       "    </tr>\n",
       "  </thead>\n",
       "  <tbody>\n",
       "    <tr>\n",
       "      <td>0</td>\n",
       "      <td>53811249179</td>\n",
       "      <td>3300.0</td>\n",
       "      <td>True</td>\n",
       "      <td>18</td>\n",
       "      <td>26.8</td>\n",
       "      <td>3698</td>\n",
       "      <td>840</td>\n",
       "      <td>0.000000e+00</td>\n",
       "      <td>0.000000</td>\n",
       "    </tr>\n",
       "    <tr>\n",
       "      <td>1</td>\n",
       "      <td>53811249115</td>\n",
       "      <td>3300.0</td>\n",
       "      <td>True</td>\n",
       "      <td>18</td>\n",
       "      <td>26.8</td>\n",
       "      <td>3698</td>\n",
       "      <td>840</td>\n",
       "      <td>-4.514764e+07</td>\n",
       "      <td>4.402381</td>\n",
       "    </tr>\n",
       "    <tr>\n",
       "      <td>2</td>\n",
       "      <td>53811249205</td>\n",
       "      <td>3300.0</td>\n",
       "      <td>True</td>\n",
       "      <td>18</td>\n",
       "      <td>26.8</td>\n",
       "      <td>3698</td>\n",
       "      <td>840</td>\n",
       "      <td>-4.514764e+07</td>\n",
       "      <td>4.402381</td>\n",
       "    </tr>\n",
       "    <tr>\n",
       "      <td>3</td>\n",
       "      <td>53811249220</td>\n",
       "      <td>3300.0</td>\n",
       "      <td>True</td>\n",
       "      <td>18</td>\n",
       "      <td>26.8</td>\n",
       "      <td>3698</td>\n",
       "      <td>840</td>\n",
       "      <td>-4.514764e+07</td>\n",
       "      <td>4.402381</td>\n",
       "    </tr>\n",
       "    <tr>\n",
       "      <td>4</td>\n",
       "      <td>53811251237</td>\n",
       "      <td>3300.0</td>\n",
       "      <td>True</td>\n",
       "      <td>18</td>\n",
       "      <td>26.8</td>\n",
       "      <td>3698</td>\n",
       "      <td>840</td>\n",
       "      <td>-4.514764e+07</td>\n",
       "      <td>4.402381</td>\n",
       "    </tr>\n",
       "  </tbody>\n",
       "</table>\n",
       "</div>"
      ],
      "text/plain": [
       "   1570600057007  3300.0  true  18  26.8  3698  840        charge       v/i\n",
       "0    53811249179  3300.0  True  18  26.8  3698  840  0.000000e+00  0.000000\n",
       "1    53811249115  3300.0  True  18  26.8  3698  840 -4.514764e+07  4.402381\n",
       "2    53811249205  3300.0  True  18  26.8  3698  840 -4.514764e+07  4.402381\n",
       "3    53811249220  3300.0  True  18  26.8  3698  840 -4.514764e+07  4.402381\n",
       "4    53811251237  3300.0  True  18  26.8  3698  840 -4.514764e+07  4.402381"
      ]
     },
     "execution_count": 17,
     "metadata": {},
     "output_type": "execute_result"
    }
   ],
   "source": [
    "y.head()"
   ]
  },
  {
   "cell_type": "code",
   "execution_count": 18,
   "metadata": {},
   "outputs": [
    {
     "data": {
      "text/plain": [
       "(297196, 9)"
      ]
     },
     "execution_count": 18,
     "metadata": {},
     "output_type": "execute_result"
    }
   ],
   "source": [
    "y.shape"
   ]
  },
  {
   "cell_type": "code",
   "execution_count": 19,
   "metadata": {},
   "outputs": [
    {
     "name": "stdout",
     "output_type": "stream",
     "text": [
      "2258.1304259722224\n"
     ]
    }
   ],
   "source": [
    "#charge_limit = 24875624182\n",
    "charge_limit = charge_limit/3600000\n",
    "charge_limit = charge_limit/2\n",
    "print(charge_limit)\n"
   ]
  },
  {
   "cell_type": "code",
   "execution_count": 20,
   "metadata": {},
   "outputs": [
    {
     "data": {
      "text/plain": [
       "1.4456089627755693"
      ]
     },
     "execution_count": 20,
     "metadata": {},
     "output_type": "execute_result"
    }
   ],
   "source": [
    "5000/3454.94\n",
    "5000/2833.7337681944446\n",
    "5000/4315.313589722222\n",
    "3300/2230.8774704166667\n",
    "4000/2767"
   ]
  },
  {
   "cell_type": "markdown",
   "metadata": {},
   "source": [
    "## Model"
   ]
  },
  {
   "cell_type": "code",
   "execution_count": 21,
   "metadata": {},
   "outputs": [
    {
     "name": "stderr",
     "output_type": "stream",
     "text": [
      "Using TensorFlow backend.\n"
     ]
    }
   ],
   "source": [
    "import matplotlib.pyplot as plt\n",
    "from keras.layers import Dense,Activation,Input\n",
    "from keras.models import Sequential,Model\n",
    "from keras import optimizers"
   ]
  },
  {
   "cell_type": "code",
   "execution_count": 22,
   "metadata": {},
   "outputs": [
    {
     "name": "stdout",
     "output_type": "stream",
     "text": [
      "Model: \"model_1\"\n",
      "_________________________________________________________________\n",
      "Layer (type)                 Output Shape              Param #   \n",
      "=================================================================\n",
      "input_1 (InputLayer)         (None, 8)                 0         \n",
      "_________________________________________________________________\n",
      "dense_1 (Dense)              (None, 32)                288       \n",
      "_________________________________________________________________\n",
      "dense_2 (Dense)              (None, 32)                1056      \n",
      "_________________________________________________________________\n",
      "dense_3 (Dense)              (None, 1)                 33        \n",
      "_________________________________________________________________\n",
      "activation_1 (Activation)    (None, 1)                 0         \n",
      "=================================================================\n",
      "Total params: 1,377\n",
      "Trainable params: 1,377\n",
      "Non-trainable params: 0\n",
      "_________________________________________________________________\n"
     ]
    }
   ],
   "source": [
    "# model = Sequential()\n",
    "# model.add(Dense(16, input_dim=(6)))\n",
    "# model.add(Activation('relu'))\n",
    "# model.add(Dense(16,activation='relu'))\n",
    "# model.add(Dense(1,activation='relu'))\n",
    "\n",
    "# model.summary()\n",
    "\n",
    "\n",
    "inp = Input(shape=(8,))\n",
    "h1 = Dense(32,activation='relu')(inp)\n",
    "h2 = Dense(32,activation='relu')(h1)\n",
    "#h3 = Dense(32,activation='relu')(h2)\n",
    "#h4 = Dense(32,activation='relu')(h3)\n",
    "h5 = Dense(1)(h2)\n",
    "\n",
    "out = Activation('relu')(h5)\n",
    "\n",
    "model = Model(inputs=inp,outputs=out)\n",
    "\n",
    "model.summary()"
   ]
  },
  {
   "cell_type": "code",
   "execution_count": 23,
   "metadata": {},
   "outputs": [],
   "source": [
    "adam = optimizers.adam(lr = 0.1)\n",
    "model.compile(loss='mae', optimizer='adam' ,metrics=['accuracy'])"
   ]
  },
  {
   "cell_type": "code",
   "execution_count": 24,
   "metadata": {},
   "outputs": [
    {
     "name": "stdout",
     "output_type": "stream",
     "text": [
      "Train on 237756 samples, validate on 59440 samples\n",
      "Epoch 1/50\n",
      "237756/237756 [==============================] - 4s 15us/step - loss: 53106717569.8412 - accuracy: 0.0000e+00 - val_loss: 50870625802.8877 - val_accuracy: 0.0000e+00\n",
      "Epoch 2/50\n",
      "237756/237756 [==============================] - 3s 15us/step - loss: 42187053348.1481 - accuracy: 0.0000e+00 - val_loss: 39028310695.1752 - val_accuracy: 0.0000e+00\n",
      "Epoch 3/50\n",
      "237756/237756 [==============================] - 3s 14us/step - loss: 35499395296.4775 - accuracy: 0.0000e+00 - val_loss: 37541871410.9244 - val_accuracy: 0.0000e+00\n",
      "Epoch 4/50\n",
      "237756/237756 [==============================] - 3s 14us/step - loss: 35223635874.6601 - accuracy: 0.0000e+00 - val_loss: 37449675060.7160 - val_accuracy: 0.0000e+00\n",
      "Epoch 5/50\n",
      "237756/237756 [==============================] - 3s 14us/step - loss: 35218198054.2714 - accuracy: 0.0000e+00 - val_loss: 37437326452.5954 - val_accuracy: 0.0000e+00\n",
      "Epoch 6/50\n",
      "237756/237756 [==============================] - 3s 14us/step - loss: 35214213386.2720 - accuracy: 0.0000e+00 - val_loss: 37453728535.0848 - val_accuracy: 0.0000e+00\n",
      "Epoch 7/50\n",
      "237756/237756 [==============================] - 3s 14us/step - loss: 35210179890.1198 - accuracy: 0.0000e+00 - val_loss: 37434462452.7677 - val_accuracy: 0.0000e+00\n",
      "Epoch 8/50\n",
      "237756/237756 [==============================] - 3s 14us/step - loss: 35205625147.9052 - accuracy: 0.0000e+00 - val_loss: 37414679480.6094 - val_accuracy: 0.0000e+00\n",
      "Epoch 9/50\n",
      "237756/237756 [==============================] - 3s 14us/step - loss: 35202205297.6601 - accuracy: 0.0000e+00 - val_loss: 37432778142.2859 - val_accuracy: 0.0000e+00\n",
      "Epoch 10/50\n",
      "237756/237756 [==============================] - 3s 14us/step - loss: 35197137510.6860 - accuracy: 0.0000e+00 - val_loss: 37457831033.5569 - val_accuracy: 0.0000e+00\n",
      "Epoch 11/50\n",
      "237756/237756 [==============================] - 3s 14us/step - loss: 35193585626.3746 - accuracy: 0.0000e+00 - val_loss: 37430934142.9319 - val_accuracy: 0.0000e+00\n",
      "Epoch 12/50\n",
      "237756/237756 [==============================] - 4s 16us/step - loss: 35189077411.0649 - accuracy: 0.0000e+00 - val_loss: 37432084268.8603 - val_accuracy: 0.0000e+00\n",
      "Epoch 13/50\n",
      "237756/237756 [==============================] - 5s 19us/step - loss: 35184731487.0498 - accuracy: 0.0000e+00 - val_loss: 37403422823.6404 - val_accuracy: 0.0000e+00\n",
      "Epoch 14/50\n",
      "237756/237756 [==============================] - 4s 16us/step - loss: 35180450040.8720 - accuracy: 0.0000e+00 - val_loss: 37416024720.5728 - val_accuracy: 0.0000e+00\n",
      "Epoch 15/50\n",
      "237756/237756 [==============================] - 4s 15us/step - loss: 35175658584.0855 - accuracy: 0.0000e+00 - val_loss: 37427785664.0517 - val_accuracy: 0.0000e+00\n",
      "Epoch 16/50\n",
      "237756/237756 [==============================] - 4s 15us/step - loss: 35171216821.4986 - accuracy: 0.0000e+00 - val_loss: 37393456693.3362 - val_accuracy: 0.0000e+00\n",
      "Epoch 17/50\n",
      "237756/237756 [==============================] - 3s 15us/step - loss: 35166817264.9946 - accuracy: 0.0000e+00 - val_loss: 37408933900.6794 - val_accuracy: 0.0000e+00\n",
      "Epoch 18/50\n",
      "237756/237756 [==============================] - 3s 15us/step - loss: 35162042413.5502 - accuracy: 0.0000e+00 - val_loss: 37401184815.5478 - val_accuracy: 0.0000e+00\n",
      "Epoch 19/50\n",
      "237756/237756 [==============================] - 4s 15us/step - loss: 35157402337.2097 - accuracy: 0.0000e+00 - val_loss: 37397966305.5419 - val_accuracy: 0.0000e+00\n",
      "Epoch 20/50\n",
      "237756/237756 [==============================] - 4s 16us/step - loss: 35152612834.7042 - accuracy: 0.0000e+00 - val_loss: 37369151291.7448 - val_accuracy: 0.0000e+00\n",
      "Epoch 21/50\n",
      "237756/237756 [==============================] - 4s 15us/step - loss: 35147470440.4949 - accuracy: 0.0000e+00 - val_loss: 37387867125.2501 - val_accuracy: 0.0000e+00\n",
      "Epoch 22/50\n",
      "237756/237756 [==============================] - 4s 16us/step - loss: 35142609134.7421 - accuracy: 0.0000e+00 - val_loss: 37359110644.5610 - val_accuracy: 0.0000e+00\n",
      "Epoch 23/50\n",
      "237756/237756 [==============================] - 4s 15us/step - loss: 35137505385.4683 - accuracy: 0.0000e+00 - val_loss: 37351302980.0140 - val_accuracy: 0.0000e+00\n",
      "Epoch 24/50\n",
      "237756/237756 [==============================] - 3s 15us/step - loss: 35132129751.1789 - accuracy: 0.0000e+00 - val_loss: 37366422895.9785 - val_accuracy: 0.0000e+00\n",
      "Epoch 25/50\n",
      "237756/237756 [==============================] - 4s 15us/step - loss: 35127177666.2644 - accuracy: 0.0000e+00 - val_loss: 37354934233.4105 - val_accuracy: 0.0000e+00\n",
      "Epoch 26/50\n",
      "237756/237756 [==============================] - 4s 15us/step - loss: 35121772199.4795 - accuracy: 0.0000e+00 - val_loss: 37333292828.8732 - val_accuracy: 0.0000e+00\n",
      "Epoch 27/50\n",
      "237756/237756 [==============================] - 4s 15us/step - loss: 35116288064.3629 - accuracy: 0.0000e+00 - val_loss: 37341924883.1569 - val_accuracy: 0.0000e+00\n",
      "Epoch 28/50\n",
      "237756/237756 [==============================] - 4s 15us/step - loss: 35110529084.8829 - accuracy: 0.0000e+00 - val_loss: 37325681124.0226 - val_accuracy: 0.0000e+00\n",
      "Epoch 29/50\n",
      "237756/237756 [==============================] - 4s 15us/step - loss: 35104600882.1801 - accuracy: 0.0000e+00 - val_loss: 37350399282.2353 - val_accuracy: 0.0000e+00\n",
      "Epoch 30/50\n",
      "237756/237756 [==============================] - 4s 15us/step - loss: 35098987464.3027 - accuracy: 0.0000e+00 - val_loss: 37322987886.6003 - val_accuracy: 0.0000e+00\n",
      "Epoch 31/50\n",
      "237756/237756 [==============================] - 4s 15us/step - loss: 35092643196.7849 - accuracy: 0.0000e+00 - val_loss: 37324358558.1480 - val_accuracy: 0.0000e+00\n",
      "Epoch 32/50\n",
      "237756/237756 [==============================] - 4s 15us/step - loss: 35086040774.6618 - accuracy: 0.0000e+00 - val_loss: 37313995729.9682 - val_accuracy: 0.0000e+00\n",
      "Epoch 33/50\n",
      "237756/237756 [==============================] - 4s 19us/step - loss: 35080103957.7414 - accuracy: 0.0000e+00 - val_loss: 37288203763.7341 - val_accuracy: 0.0000e+00\n",
      "Epoch 34/50\n",
      "237756/237756 [==============================] - 4s 16us/step - loss: 35073227006.5916 - accuracy: 0.0000e+00 - val_loss: 37295309169.3567 - val_accuracy: 0.0000e+00\n",
      "Epoch 35/50\n",
      "237756/237756 [==============================] - 4s 16us/step - loss: 35066464118.9705 - accuracy: 0.0000e+00 - val_loss: 37301790579.4240 - val_accuracy: 0.0000e+00\n",
      "Epoch 36/50\n",
      "237756/237756 [==============================] - 5s 19us/step - loss: 35059526065.0711 - accuracy: 0.0000e+00 - val_loss: 37264348579.7987 - val_accuracy: 0.0000e+00\n",
      "Epoch 37/50\n",
      "237756/237756 [==============================] - 4s 15us/step - loss: 35052262203.3108 - accuracy: 0.0000e+00 - val_loss: 37276456156.7871 - val_accuracy: 0.0000e+00\n",
      "Epoch 38/50\n",
      "237756/237756 [==============================] - 4s 18us/step - loss: 35044441422.2010 - accuracy: 0.0000e+00 - val_loss: 37288251937.7658 - val_accuracy: 0.0000e+00\n",
      "Epoch 39/50\n",
      "237756/237756 [==============================] - 4s 17us/step - loss: 35036278253.5922 - accuracy: 0.0000e+00 - val_loss: 37257098324.0700 - val_accuracy: 0.0000e+00\n",
      "Epoch 40/50\n",
      "237756/237756 [==============================] - 4s 16us/step - loss: 35027866235.2215 - accuracy: 0.0000e+00 - val_loss: 37243849834.6724 - val_accuracy: 0.0000e+00\n",
      "Epoch 41/50\n",
      "237756/237756 [==============================] - 4s 19us/step - loss: 35019449048.6647 - accuracy: 0.0000e+00 - val_loss: 37238927378.7435 - val_accuracy: 0.0000e+00\n",
      "Epoch 42/50\n",
      "237756/237756 [==============================] - 4s 16us/step - loss: 35010173430.8090 - accuracy: 0.0000e+00 - val_loss: 37234351216.1852 - val_accuracy: 0.0000e+00\n",
      "Epoch 43/50\n",
      "237756/237756 [==============================] - 4s 17us/step - loss: 35000586087.7067 - accuracy: 0.0000e+00 - val_loss: 37220359453.2867 - val_accuracy: 0.0000e+00\n",
      "Epoch 44/50\n",
      "237756/237756 [==============================] - 4s 17us/step - loss: 34991162191.0538 - accuracy: 0.0000e+00 - val_loss: 37200409313.0595 - val_accuracy: 0.0000e+00\n",
      "Epoch 45/50\n",
      "237756/237756 [==============================] - 3s 14us/step - loss: 34980310863.0366 - accuracy: 0.0000e+00 - val_loss: 37189635055.1860 - val_accuracy: 0.0000e+00\n",
      "Epoch 46/50\n",
      "237756/237756 [==============================] - 4s 18us/step - loss: 34969844970.4179 - accuracy: 0.0000e+00 - val_loss: 37173278187.4649 - val_accuracy: 0.0000e+00\n"
     ]
    },
    {
     "name": "stdout",
     "output_type": "stream",
     "text": [
      "Epoch 47/50\n",
      "237756/237756 [==============================] - 4s 17us/step - loss: 34958220051.5492 - accuracy: 0.0000e+00 - val_loss: 37175084052.1217 - val_accuracy: 0.0000e+00\n",
      "Epoch 48/50\n",
      "237756/237756 [==============================] - 4s 16us/step - loss: 34946071174.1438 - accuracy: 0.0000e+00 - val_loss: 37176920352.3187 - val_accuracy: 0.0000e+00\n",
      "Epoch 49/50\n",
      "237756/237756 [==============================] - 4s 16us/step - loss: 34933242004.8822 - accuracy: 0.0000e+00 - val_loss: 37141382340.5308 - val_accuracy: 0.0000e+00\n",
      "Epoch 50/50\n",
      "237756/237756 [==============================] - 4s 17us/step - loss: 34919861202.3637 - accuracy: 0.0000e+00 - val_loss: 37121299349.3276 - val_accuracy: 0.0000e+00\n"
     ]
    }
   ],
   "source": [
    "hist = model.fit(y.iloc[:,1:],y.iloc[:,0],epochs=50,shuffle=True,batch_size=256,validation_split=0.20)"
   ]
  },
  {
   "cell_type": "code",
   "execution_count": 25,
   "metadata": {},
   "outputs": [
    {
     "data": {
      "text/plain": [
       "[<matplotlib.lines.Line2D at 0x249a6bcf208>]"
      ]
     },
     "execution_count": 25,
     "metadata": {},
     "output_type": "execute_result"
    },
    {
     "data": {
      "text/plain": [
       "<Figure size 432x288 with 0 Axes>"
      ]
     },
     "metadata": {},
     "output_type": "display_data"
    },
    {
     "data": {
      "image/png": "[encoded data removed]",
      "text/plain": [
       "<Figure size 432x288 with 1 Axes>"
      ]
     },
     "metadata": {
      "needs_background": "light"
     },
     "output_type": "display_data"
    }
   ],
   "source": [
    "\n",
    "plt.figure(1)\n",
    "#plt.plot(hist.history['acc'], color = 'r')\n",
    "#plt.plot(hist.history['val_acc'], color = 'b')\n",
    "\n",
    "plt.figure(2)\n",
    "plt.plot(hist.history['loss'], color = 'r')\n",
    "plt.plot(hist.history['val_loss'], color = 'b')\n",
    "\n"
   ]
  },
  {
   "cell_type": "code",
   "execution_count": 26,
   "metadata": {},
   "outputs": [
    {
     "data": {
      "text/plain": [
       "31511726000.0"
      ]
     },
     "execution_count": 26,
     "metadata": {},
     "output_type": "execute_result"
    }
   ],
   "source": [
    "np.mean(model.predict(y.iloc[:,1:]))"
   ]
  },
  {
   "cell_type": "code",
   "execution_count": null,
   "metadata": {},
   "outputs": [],
   "source": []
  },
  {
   "cell_type": "code",
   "execution_count": 27,
   "metadata": {},
   "outputs": [],
   "source": [
    "import numpy as np\n",
    "from sklearn.linear_model import LinearRegression"
   ]
  },
  {
   "cell_type": "code",
   "execution_count": 28,
   "metadata": {},
   "outputs": [],
   "source": [
    "reg = LinearRegression().fit(y.iloc[:,1:],y.iloc[:,0])"
   ]
  },
  {
   "cell_type": "code",
   "execution_count": 29,
   "metadata": {},
   "outputs": [
    {
     "data": {
      "text/plain": [
       "array([ 0.00000000e+00,  3.16183727e+07,  2.19036849e+06,  2.28437880e+06,\n",
       "       -6.60258384e+05, -6.99869919e+04, -2.06501302e+00,  1.11134674e+06])"
      ]
     },
     "execution_count": 29,
     "metadata": {},
     "output_type": "execute_result"
    }
   ],
   "source": [
    "reg.score(y.iloc[:,1:],y.iloc[:,0])\n",
    "reg.coef_"
   ]
  },
  {
   "cell_type": "code",
   "execution_count": 30,
   "metadata": {},
   "outputs": [
    {
     "data": {
      "text/plain": [
       "0.06518766219841554"
      ]
     },
     "execution_count": 30,
     "metadata": {},
     "output_type": "execute_result"
    }
   ],
   "source": [
    "reg.score(y.iloc[:,1:],y.iloc[:,0])"
   ]
  },
  {
   "cell_type": "code",
   "execution_count": 31,
   "metadata": {},
   "outputs": [
    {
     "data": {
      "text/plain": [
       "54245896550.79581"
      ]
     },
     "execution_count": 31,
     "metadata": {},
     "output_type": "execute_result"
    }
   ],
   "source": [
    "ans = reg.predict(y.iloc[:,1:])\n",
    "np.mean(ans)\n",
    "\n",
    "np.mean(y.iloc[:,0])"
   ]
  },
  {
   "cell_type": "code",
   "execution_count": 32,
   "metadata": {},
   "outputs": [
    {
     "data": {
      "text/plain": [
       "array([3300.0, True, 18, 26.8, 3698, 840, -45147638.061245,\n",
       "       4.402380952380953], dtype=object)"
      ]
     },
     "execution_count": 32,
     "metadata": {},
     "output_type": "execute_result"
    }
   ],
   "source": [
    "np.asarray(y.iloc[1,1:])"
   ]
  },
  {
   "cell_type": "code",
   "execution_count": 33,
   "metadata": {},
   "outputs": [
    {
     "data": {
      "text/plain": [
       "[3000, False, 15, 12, 27.9, 3903, 990]"
      ]
     },
     "execution_count": 33,
     "metadata": {},
     "output_type": "execute_result"
    }
   ],
   "source": [
    "[3000,False,15,12,27.9,3903,990]"
   ]
  },
  {
   "cell_type": "code",
   "execution_count": 34,
   "metadata": {},
   "outputs": [
    {
     "data": {
      "text/plain": [
       "datetime.datetime(2019, 10, 9, 11, 15, 38)"
      ]
     },
     "execution_count": 34,
     "metadata": {},
     "output_type": "execute_result"
    }
   ],
   "source": [
    "td = datetime.fromtimestamp(1570599938)\n",
    "#print(int(td.strftime('%s')))\n",
    "td"
   ]
  },
  {
   "cell_type": "code",
   "execution_count": 35,
   "metadata": {},
   "outputs": [
    {
     "data": {
      "image/png": "[encoded data removed]",
      "text/plain": [
       "<Figure size 432x288 with 2 Axes>"
      ]
     },
     "metadata": {},
     "output_type": "display_data"
    }
   ],
   "source": [
    "import seaborn as sns\n",
    "sns.set()\n",
    "ax = sns.heatmap(y.iloc[:,4:])"
   ]
  },
  {
   "cell_type": "code",
   "execution_count": 36,
   "metadata": {},
   "outputs": [
    {
     "data": {
      "text/plain": [
       "1428300652276.5715"
      ]
     },
     "execution_count": 36,
     "metadata": {},
     "output_type": "execute_result"
    }
   ],
   "source": [
    "1499668200000-71367547723.42853"
   ]
  },
  {
   "cell_type": "code",
   "execution_count": null,
   "metadata": {},
   "outputs": [],
   "source": []
  },
  {
   "cell_type": "code",
   "execution_count": null,
   "metadata": {},
   "outputs": [],
   "source": []
  },
  {
   "cell_type": "code",
   "execution_count": null,
   "metadata": {},
   "outputs": [],
   "source": []
  },
  {
   "cell_type": "code",
   "execution_count": null,
   "metadata": {},
   "outputs": [],
   "source": []
  },
  {
   "cell_type": "code",
   "execution_count": null,
   "metadata": {},
   "outputs": [],
   "source": []
  },
  {
   "cell_type": "code",
   "execution_count": 37,
   "metadata": {},
   "outputs": [
    {
     "data": {
      "text/plain": [
       "0.15"
      ]
     },
     "execution_count": 37,
     "metadata": {},
     "output_type": "execute_result"
    }
   ],
   "source": [
    ".78\n",
    ".475584130932088\n",
    "-2.3\n",
    ".53\n",
    "\n",
    ".67\n",
    ".63\n",
    "-.83\n",
    ".38\n",
    "\n",
    ".21\n",
    "-.18\n",
    ".27\n",
    ".15\n",
    "\n"
   ]
  },
  {
   "cell_type": "code",
   "execution_count": 38,
   "metadata": {},
   "outputs": [
    {
     "data": {
      "text/plain": [
       "1571031969331.3293"
      ]
     },
     "execution_count": 38,
     "metadata": {},
     "output_type": "execute_result"
    }
   ],
   "source": [
    "data = pd.read_csv(\"866817034014258.csv\")\n",
    "\n",
    "date = np.mean(data.iloc[:,5])\n",
    "date"
   ]
  },
  {
   "cell_type": "code",
   "execution_count": 39,
   "metadata": {},
   "outputs": [
    {
     "data": {
      "text/plain": [
       "1571031969331.3293"
      ]
     },
     "execution_count": 39,
     "metadata": {},
     "output_type": "execute_result"
    }
   ],
   "source": [
    "mn = np.mean(data.iloc[:,5])\n",
    "mn"
   ]
  },
  {
   "cell_type": "code",
   "execution_count": 40,
   "metadata": {},
   "outputs": [
    {
     "name": "stdout",
     "output_type": "stream",
     "text": [
      "(297196,)\n",
      "(297196, 7)\n"
     ]
    },
    {
     "data": {
      "text/html": [
       "<div>\n",
       "<style scoped>\n",
       "    .dataframe tbody tr th:only-of-type {\n",
       "        vertical-align: middle;\n",
       "    }\n",
       "\n",
       "    .dataframe tbody tr th {\n",
       "        vertical-align: top;\n",
       "    }\n",
       "\n",
       "    .dataframe thead th {\n",
       "        text-align: right;\n",
       "    }\n",
       "</style>\n",
       "<table border=\"1\" class=\"dataframe\">\n",
       "  <thead>\n",
       "    <tr style=\"text-align: right;\">\n",
       "      <th></th>\n",
       "      <th>1570600057007</th>\n",
       "      <th>3300.0</th>\n",
       "      <th>true</th>\n",
       "      <th>18</th>\n",
       "      <th>26.8</th>\n",
       "      <th>3698</th>\n",
       "      <th>840</th>\n",
       "      <th>charge</th>\n",
       "      <th>v/i</th>\n",
       "    </tr>\n",
       "  </thead>\n",
       "  <tbody>\n",
       "    <tr>\n",
       "      <td>0</td>\n",
       "      <td>53811249179</td>\n",
       "      <td>3300.0</td>\n",
       "      <td>True</td>\n",
       "      <td>18</td>\n",
       "      <td>26.8</td>\n",
       "      <td>3698</td>\n",
       "      <td>840</td>\n",
       "      <td>0</td>\n",
       "      <td>0.000000</td>\n",
       "    </tr>\n",
       "    <tr>\n",
       "      <td>1</td>\n",
       "      <td>53811249115</td>\n",
       "      <td>3300.0</td>\n",
       "      <td>True</td>\n",
       "      <td>18</td>\n",
       "      <td>26.8</td>\n",
       "      <td>3698</td>\n",
       "      <td>840</td>\n",
       "      <td>53760</td>\n",
       "      <td>4.402381</td>\n",
       "    </tr>\n",
       "    <tr>\n",
       "      <td>2</td>\n",
       "      <td>53811249205</td>\n",
       "      <td>3300.0</td>\n",
       "      <td>True</td>\n",
       "      <td>18</td>\n",
       "      <td>26.8</td>\n",
       "      <td>3698</td>\n",
       "      <td>840</td>\n",
       "      <td>-75600</td>\n",
       "      <td>4.402381</td>\n",
       "    </tr>\n",
       "    <tr>\n",
       "      <td>3</td>\n",
       "      <td>53811249220</td>\n",
       "      <td>3300.0</td>\n",
       "      <td>True</td>\n",
       "      <td>18</td>\n",
       "      <td>26.8</td>\n",
       "      <td>3698</td>\n",
       "      <td>840</td>\n",
       "      <td>-12600</td>\n",
       "      <td>4.402381</td>\n",
       "    </tr>\n",
       "    <tr>\n",
       "      <td>4</td>\n",
       "      <td>53811251237</td>\n",
       "      <td>3300.0</td>\n",
       "      <td>True</td>\n",
       "      <td>18</td>\n",
       "      <td>26.8</td>\n",
       "      <td>3698</td>\n",
       "      <td>840</td>\n",
       "      <td>-1694280</td>\n",
       "      <td>4.402381</td>\n",
       "    </tr>\n",
       "  </tbody>\n",
       "</table>\n",
       "</div>"
      ],
      "text/plain": [
       "   1570600057007  3300.0  true  18  26.8  3698  840   charge       v/i\n",
       "0    53811249179  3300.0  True  18  26.8  3698  840        0  0.000000\n",
       "1    53811249115  3300.0  True  18  26.8  3698  840    53760  4.402381\n",
       "2    53811249205  3300.0  True  18  26.8  3698  840   -75600  4.402381\n",
       "3    53811249220  3300.0  True  18  26.8  3698  840   -12600  4.402381\n",
       "4    53811251237  3300.0  True  18  26.8  3698  840 -1694280  4.402381"
      ]
     },
     "execution_count": 40,
     "metadata": {},
     "output_type": "execute_result"
    }
   ],
   "source": [
    "x,y = data_clean(data)\n",
    "\n",
    "#y.iloc[:,1:]\n",
    "ls = [0]\n",
    "ls2 = [0]\n",
    "dif = 0\n",
    "charge = 0\n",
    "for i in range(y.shape[0]-1):\n",
    "    #print(y.iloc[i+1,0])\n",
    "    charge+=((y.iloc[i,0]-y.iloc[i+1,0])*y.iloc[i,6])\n",
    "    ls.append(((y.iloc[i,0]-y.iloc[i+1,0])*y.iloc[i,6]))\n",
    "    if y.iloc[i,6]!=0:\n",
    "        ls2.append(y.iloc[i,5]/y.iloc[i,6])\n",
    "    if y.iloc[i,6]==0:\n",
    "        ls2.append(0)\n",
    "    if y.iloc[i,3]-y.iloc[i+1,3]==1:\n",
    "           dif+=1\n",
    "    if dif==100:\n",
    "        charge_limit = charge\n",
    "\n",
    "print(np.asarray(ls).shape) \n",
    "print(y.shape)\n",
    "y['charge'] = ls\n",
    "y['v/i'] = ls2\n",
    "\n",
    "y.head()"
   ]
  },
  {
   "cell_type": "code",
   "execution_count": 41,
   "metadata": {},
   "outputs": [
    {
     "data": {
      "text/plain": [
       "0.027047015603600566"
      ]
     },
     "execution_count": 41,
     "metadata": {},
     "output_type": "execute_result"
    }
   ],
   "source": [
    "reg.score(y.iloc[:,1:],y.iloc[:,0])"
   ]
  },
  {
   "cell_type": "code",
   "execution_count": 42,
   "metadata": {},
   "outputs": [
    {
     "data": {
      "text/html": [
       "<div>\n",
       "<style scoped>\n",
       "    .dataframe tbody tr th:only-of-type {\n",
       "        vertical-align: middle;\n",
       "    }\n",
       "\n",
       "    .dataframe tbody tr th {\n",
       "        vertical-align: top;\n",
       "    }\n",
       "\n",
       "    .dataframe thead th {\n",
       "        text-align: right;\n",
       "    }\n",
       "</style>\n",
       "<table border=\"1\" class=\"dataframe\">\n",
       "  <thead>\n",
       "    <tr style=\"text-align: right;\">\n",
       "      <th></th>\n",
       "      <th>1570600057007</th>\n",
       "      <th>3300.0</th>\n",
       "      <th>true</th>\n",
       "      <th>18</th>\n",
       "      <th>26.8</th>\n",
       "      <th>3698</th>\n",
       "      <th>840</th>\n",
       "      <th>charge</th>\n",
       "      <th>v/i</th>\n",
       "    </tr>\n",
       "  </thead>\n",
       "  <tbody>\n",
       "    <tr>\n",
       "      <td>0</td>\n",
       "      <td>53811249179</td>\n",
       "      <td>3300.0</td>\n",
       "      <td>True</td>\n",
       "      <td>18</td>\n",
       "      <td>26.8</td>\n",
       "      <td>3698</td>\n",
       "      <td>840</td>\n",
       "      <td>0</td>\n",
       "      <td>0.000000</td>\n",
       "    </tr>\n",
       "    <tr>\n",
       "      <td>1</td>\n",
       "      <td>53811249115</td>\n",
       "      <td>3300.0</td>\n",
       "      <td>True</td>\n",
       "      <td>18</td>\n",
       "      <td>26.8</td>\n",
       "      <td>3698</td>\n",
       "      <td>840</td>\n",
       "      <td>53760</td>\n",
       "      <td>4.402381</td>\n",
       "    </tr>\n",
       "    <tr>\n",
       "      <td>2</td>\n",
       "      <td>53811249205</td>\n",
       "      <td>3300.0</td>\n",
       "      <td>True</td>\n",
       "      <td>18</td>\n",
       "      <td>26.8</td>\n",
       "      <td>3698</td>\n",
       "      <td>840</td>\n",
       "      <td>-75600</td>\n",
       "      <td>4.402381</td>\n",
       "    </tr>\n",
       "    <tr>\n",
       "      <td>3</td>\n",
       "      <td>53811249220</td>\n",
       "      <td>3300.0</td>\n",
       "      <td>True</td>\n",
       "      <td>18</td>\n",
       "      <td>26.8</td>\n",
       "      <td>3698</td>\n",
       "      <td>840</td>\n",
       "      <td>-12600</td>\n",
       "      <td>4.402381</td>\n",
       "    </tr>\n",
       "    <tr>\n",
       "      <td>4</td>\n",
       "      <td>53811251237</td>\n",
       "      <td>3300.0</td>\n",
       "      <td>True</td>\n",
       "      <td>18</td>\n",
       "      <td>26.8</td>\n",
       "      <td>3698</td>\n",
       "      <td>840</td>\n",
       "      <td>-1694280</td>\n",
       "      <td>4.402381</td>\n",
       "    </tr>\n",
       "  </tbody>\n",
       "</table>\n",
       "</div>"
      ],
      "text/plain": [
       "   1570600057007  3300.0  true  18  26.8  3698  840   charge       v/i\n",
       "0    53811249179  3300.0  True  18  26.8  3698  840        0  0.000000\n",
       "1    53811249115  3300.0  True  18  26.8  3698  840    53760  4.402381\n",
       "2    53811249205  3300.0  True  18  26.8  3698  840   -75600  4.402381\n",
       "3    53811249220  3300.0  True  18  26.8  3698  840   -12600  4.402381\n",
       "4    53811251237  3300.0  True  18  26.8  3698  840 -1694280  4.402381"
      ]
     },
     "execution_count": 42,
     "metadata": {},
     "output_type": "execute_result"
    }
   ],
   "source": [
    "y.head()"
   ]
  },
  {
   "cell_type": "code",
   "execution_count": 43,
   "metadata": {},
   "outputs": [
    {
     "data": {
      "text/plain": [
       "54227435101.39366"
      ]
     },
     "execution_count": 43,
     "metadata": {},
     "output_type": "execute_result"
    }
   ],
   "source": [
    "ans = reg.predict(y.iloc[:,1:])\n",
    "aa = np.mean(ans)\n",
    "aa"
   ]
  },
  {
   "cell_type": "code",
   "execution_count": null,
   "metadata": {},
   "outputs": [],
   "source": []
  },
  {
   "cell_type": "code",
   "execution_count": 44,
   "metadata": {},
   "outputs": [
    {
     "data": {
      "text/plain": [
       "54245896550.79581"
      ]
     },
     "execution_count": 44,
     "metadata": {},
     "output_type": "execute_result"
    }
   ],
   "source": [
    "a = np.mean(y.iloc[:,0])\n",
    "a"
   ]
  },
  {
   "cell_type": "code",
   "execution_count": 45,
   "metadata": {},
   "outputs": [
    {
     "data": {
      "text/plain": [
       "1516804534229"
      ]
     },
     "execution_count": 45,
     "metadata": {},
     "output_type": "execute_result"
    }
   ],
   "source": [
    "ansfinal = date-aa\n",
    "int(ansfinal)"
   ]
  },
  {
   "cell_type": "code",
   "execution_count": 46,
   "metadata": {},
   "outputs": [
    {
     "data": {
      "text/plain": [
       "datetime.datetime(2018, 1, 24, 20, 5, 34, 229000)"
      ]
     },
     "execution_count": 46,
     "metadata": {},
     "output_type": "execute_result"
    }
   ],
   "source": [
    "td = datetime.fromtimestamp(int(ansfinal)/1000)\n",
    "td\n"
   ]
  },
  {
   "cell_type": "code",
   "execution_count": null,
   "metadata": {},
   "outputs": [],
   "source": []
  },
  {
   "cell_type": "code",
   "execution_count": null,
   "metadata": {},
   "outputs": [],
   "source": []
  },
  {
   "cell_type": "code",
   "execution_count": null,
   "metadata": {},
   "outputs": [],
   "source": []
  },
  {
   "cell_type": "code",
   "execution_count": null,
   "metadata": {},
   "outputs": [],
   "source": []
  },
  {
   "cell_type": "code",
   "execution_count": null,
   "metadata": {},
   "outputs": [],
   "source": []
  }
 ],
 "metadata": {
  "kernelspec": {
   "display_name": "Python 3",
   "language": "python",
   "name": "python3"
  },
  "language_info": {
   "codemirror_mode": {
    "name": "ipython",
    "version": 3
   },
   "file_extension": ".py",
   "mimetype": "text/x-python",
   "name": "python",
   "nbconvert_exporter": "python",
   "pygments_lexer": "ipython3",
   "version": "3.7.4"
  }
 },
 "nbformat": 4,
 "nbformat_minor": 2
}

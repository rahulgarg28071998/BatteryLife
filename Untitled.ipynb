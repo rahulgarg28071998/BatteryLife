{
 "cells": [
  {
   "cell_type": "code",
   "execution_count": 1,
   "metadata": {},
   "outputs": [],
   "source": [
    "import numpy as np\n",
    "import pandas as pd\n",
    "from sklearn import preprocessing\n",
    "from datetime import datetime\n",
    "import seaborn as sns"
   ]
  },
  {
   "cell_type": "code",
   "execution_count": 2,
   "metadata": {},
   "outputs": [],
   "source": [
    "data = pd.read_csv(\"352944080639365.csv\")\n"
   ]
  },
  {
   "cell_type": "code",
   "execution_count": 3,
   "metadata": {},
   "outputs": [
    {
     "data": {
      "image/png": "[encoded data removed]",
      "text/plain": [
       "<Figure size 432x288 with 2 Axes>"
      ]
     },
     "metadata": {
      "needs_background": "light"
     },
     "output_type": "display_data"
    }
   ],
   "source": [
    "corr = data.corr()\n",
    "ax = sns.heatmap(\n",
    "    corr, \n",
    "    vmin=-1, vmax=1, center=0,\n",
    "    cmap=sns.diverging_palette(20, 220, n=200),\n",
    "    square=True\n",
    ")\n",
    "ax.set_xticklabels(\n",
    "    ax.get_xticklabels(),\n",
    "    rotation=45,\n",
    "    horizontalalignment='right'\n",
    ");"
   ]
  },
  {
   "cell_type": "code",
   "execution_count": 4,
   "metadata": {},
   "outputs": [
    {
     "name": "stdout",
     "output_type": "stream",
     "text": [
      "<class 'pandas.core.frame.DataFrame'>\n",
      "RangeIndex: 385429 entries, 0 to 385428\n",
      "Data columns (total 18 columns):\n",
      "352944080639365          385429 non-null int64\n",
      "samsung SM-A910F         385429 non-null object\n",
      "8.0.0                    385429 non-null object\n",
      "Li-ion                   385429 non-null object\n",
      "5000.0                   385429 non-null float64\n",
      "1570599938843            385429 non-null int64\n",
      "false                    385429 non-null bool\n",
      "37                       385429 non-null int64\n",
      "com.zopper.batteryage    385429 non-null object\n",
      "0                        385429 non-null int64\n",
      "24.7                     385429 non-null float64\n",
      "3741                     385429 non-null int64\n",
      "130                      385429 non-null int64\n",
      "none                     385429 non-null object\n",
      "false.1                  385429 non-null bool\n",
      "Unnamed: 15              0 non-null float64\n",
      "Unnamed: 16              0 non-null float64\n",
      "Unnamed: 17              0 non-null float64\n",
      "dtypes: bool(2), float64(5), int64(6), object(5)\n",
      "memory usage: 47.8+ MB\n"
     ]
    }
   ],
   "source": [
    "data.info()"
   ]
  },
  {
   "cell_type": "markdown",
   "metadata": {},
   "source": [
    "FIELD NAMES \n",
    "\n",
    "1. IMEI Number - Unique identifier of the phone \n",
    "2. Phone Model \n",
    "3. Android Version\n",
    "4. Battery Technology: e.g. Li-ion, Li-poly etc.\n",
    "5. Battery Capacity: Original Capacity of the battery when phone was purchased\n",
    "6. Timestamp: Timestamp when the data was collected (need to convert this to IST)\n",
    "7. Screen Status: Whether the screen is on or off during the data collection time\n",
    "8. Battery Percentage: How much battery is remaining at the given point of data collection time\n",
    "9. App Running\n",
    "10. CPU Usage\n",
    "11. Battery Operating Temperature\n",
    "12. Battery Voltage\n",
    "13. Battery Current: How much current is flowing through the battery at a given point of time (See charging and discharging status from “Plugged In” column)\n",
    "14. Network Connected: e.g WiFi, LTE etc.\n",
    "15. Plugged In: Whether the charge is plugged in or not (False means discharging and True means discharging)"
   ]
  },
  {
   "cell_type": "code",
   "execution_count": 5,
   "metadata": {},
   "outputs": [
    {
     "data": {
      "text/html": [
       "<div>\n",
       "<style scoped>\n",
       "    .dataframe tbody tr th:only-of-type {\n",
       "        vertical-align: middle;\n",
       "    }\n",
       "\n",
       "    .dataframe tbody tr th {\n",
       "        vertical-align: top;\n",
       "    }\n",
       "\n",
       "    .dataframe thead th {\n",
       "        text-align: right;\n",
       "    }\n",
       "</style>\n",
       "<table border=\"1\" class=\"dataframe\">\n",
       "  <thead>\n",
       "    <tr style=\"text-align: right;\">\n",
       "      <th></th>\n",
       "      <th>352944080639365</th>\n",
       "      <th>samsung SM-A910F</th>\n",
       "      <th>8.0.0</th>\n",
       "      <th>Li-ion</th>\n",
       "      <th>5000.0</th>\n",
       "      <th>1570599938843</th>\n",
       "      <th>false</th>\n",
       "      <th>37</th>\n",
       "      <th>com.zopper.batteryage</th>\n",
       "      <th>0</th>\n",
       "      <th>24.7</th>\n",
       "      <th>3741</th>\n",
       "      <th>130</th>\n",
       "      <th>none</th>\n",
       "      <th>false.1</th>\n",
       "      <th>Unnamed: 15</th>\n",
       "      <th>Unnamed: 16</th>\n",
       "      <th>Unnamed: 17</th>\n",
       "    </tr>\n",
       "  </thead>\n",
       "  <tbody>\n",
       "    <tr>\n",
       "      <th>0</th>\n",
       "      <td>352944080639365</td>\n",
       "      <td>samsung SM-A910F</td>\n",
       "      <td>8.0.0</td>\n",
       "      <td>Li-ion</td>\n",
       "      <td>5000.0</td>\n",
       "      <td>1570599942514</td>\n",
       "      <td>False</td>\n",
       "      <td>37</td>\n",
       "      <td>com.zopper.batteryage</td>\n",
       "      <td>0</td>\n",
       "      <td>24.7</td>\n",
       "      <td>3763</td>\n",
       "      <td>130</td>\n",
       "      <td>none</td>\n",
       "      <td>False</td>\n",
       "      <td>NaN</td>\n",
       "      <td>NaN</td>\n",
       "      <td>NaN</td>\n",
       "    </tr>\n",
       "    <tr>\n",
       "      <th>1</th>\n",
       "      <td>352944080639365</td>\n",
       "      <td>samsung SM-A910F</td>\n",
       "      <td>8.0.0</td>\n",
       "      <td>Li-ion</td>\n",
       "      <td>5000.0</td>\n",
       "      <td>1570599942526</td>\n",
       "      <td>False</td>\n",
       "      <td>37</td>\n",
       "      <td>com.zopper.batteryage</td>\n",
       "      <td>0</td>\n",
       "      <td>24.7</td>\n",
       "      <td>3763</td>\n",
       "      <td>130</td>\n",
       "      <td>none</td>\n",
       "      <td>False</td>\n",
       "      <td>NaN</td>\n",
       "      <td>NaN</td>\n",
       "      <td>NaN</td>\n",
       "    </tr>\n",
       "    <tr>\n",
       "      <th>2</th>\n",
       "      <td>352944080639365</td>\n",
       "      <td>samsung SM-A910F</td>\n",
       "      <td>8.0.0</td>\n",
       "      <td>Li-ion</td>\n",
       "      <td>5000.0</td>\n",
       "      <td>1570599946877</td>\n",
       "      <td>False</td>\n",
       "      <td>37</td>\n",
       "      <td>com.zopper.batteryage</td>\n",
       "      <td>0</td>\n",
       "      <td>24.7</td>\n",
       "      <td>3763</td>\n",
       "      <td>130</td>\n",
       "      <td>none</td>\n",
       "      <td>False</td>\n",
       "      <td>NaN</td>\n",
       "      <td>NaN</td>\n",
       "      <td>NaN</td>\n",
       "    </tr>\n",
       "    <tr>\n",
       "      <th>3</th>\n",
       "      <td>352944080639365</td>\n",
       "      <td>samsung SM-A910F</td>\n",
       "      <td>8.0.0</td>\n",
       "      <td>Li-ion</td>\n",
       "      <td>5000.0</td>\n",
       "      <td>1570599947492</td>\n",
       "      <td>False</td>\n",
       "      <td>37</td>\n",
       "      <td>com.zopper.batteryage</td>\n",
       "      <td>0</td>\n",
       "      <td>24.7</td>\n",
       "      <td>3763</td>\n",
       "      <td>130</td>\n",
       "      <td>none</td>\n",
       "      <td>False</td>\n",
       "      <td>NaN</td>\n",
       "      <td>NaN</td>\n",
       "      <td>NaN</td>\n",
       "    </tr>\n",
       "    <tr>\n",
       "      <th>4</th>\n",
       "      <td>352944080639365</td>\n",
       "      <td>samsung SM-A910F</td>\n",
       "      <td>8.0.0</td>\n",
       "      <td>Li-ion</td>\n",
       "      <td>5000.0</td>\n",
       "      <td>1570599953460</td>\n",
       "      <td>False</td>\n",
       "      <td>37</td>\n",
       "      <td>com.zopper.batteryage</td>\n",
       "      <td>0</td>\n",
       "      <td>24.7</td>\n",
       "      <td>3763</td>\n",
       "      <td>130</td>\n",
       "      <td>none</td>\n",
       "      <td>False</td>\n",
       "      <td>NaN</td>\n",
       "      <td>NaN</td>\n",
       "      <td>NaN</td>\n",
       "    </tr>\n",
       "  </tbody>\n",
       "</table>\n",
       "</div>"
      ],
      "text/plain": [
       "   352944080639365  samsung SM-A910F  8.0.0  Li-ion  5000.0  1570599938843  \\\n",
       "0  352944080639365  samsung SM-A910F  8.0.0  Li-ion  5000.0  1570599942514   \n",
       "1  352944080639365  samsung SM-A910F  8.0.0  Li-ion  5000.0  1570599942526   \n",
       "2  352944080639365  samsung SM-A910F  8.0.0  Li-ion  5000.0  1570599946877   \n",
       "3  352944080639365  samsung SM-A910F  8.0.0  Li-ion  5000.0  1570599947492   \n",
       "4  352944080639365  samsung SM-A910F  8.0.0  Li-ion  5000.0  1570599953460   \n",
       "\n",
       "   false  37  com.zopper.batteryage  0  24.7  3741  130  none  false.1  \\\n",
       "0  False  37  com.zopper.batteryage  0  24.7  3763  130  none    False   \n",
       "1  False  37  com.zopper.batteryage  0  24.7  3763  130  none    False   \n",
       "2  False  37  com.zopper.batteryage  0  24.7  3763  130  none    False   \n",
       "3  False  37  com.zopper.batteryage  0  24.7  3763  130  none    False   \n",
       "4  False  37  com.zopper.batteryage  0  24.7  3763  130  none    False   \n",
       "\n",
       "   Unnamed: 15  Unnamed: 16  Unnamed: 17  \n",
       "0          NaN          NaN          NaN  \n",
       "1          NaN          NaN          NaN  \n",
       "2          NaN          NaN          NaN  \n",
       "3          NaN          NaN          NaN  \n",
       "4          NaN          NaN          NaN  "
      ]
     },
     "execution_count": 5,
     "metadata": {},
     "output_type": "execute_result"
    }
   ],
   "source": [
    "data.head()"
   ]
  },
  {
   "cell_type": "code",
   "execution_count": null,
   "metadata": {},
   "outputs": [],
   "source": []
  },
  {
   "cell_type": "code",
   "execution_count": 6,
   "metadata": {},
   "outputs": [],
   "source": [
    " #np.unique(data.iloc[:,11],return_counts=True)"
   ]
  },
  {
   "cell_type": "code",
   "execution_count": 7,
   "metadata": {},
   "outputs": [],
   "source": [
    "# data.replace(['none'], False,inplace=True)\n",
    "# data.replace(['wi-fi'],True,inplace=True)"
   ]
  },
  {
   "cell_type": "code",
   "execution_count": 8,
   "metadata": {},
   "outputs": [],
   "source": [
    "# #for samsungsm-a910f\n",
    "# timestamp = 1508308200\n",
    "\n",
    "# #\n",
    "# data.iloc[:,5] = data.iloc[:,5]-timestamp"
   ]
  },
  {
   "cell_type": "code",
   "execution_count": 9,
   "metadata": {},
   "outputs": [
    {
     "data": {
      "text/plain": [
       "datetime.datetime(2019, 10, 9, 11, 15, 42, 526000)"
      ]
     },
     "execution_count": 9,
     "metadata": {},
     "output_type": "execute_result"
    }
   ],
   "source": [
    "dt  = datetime.fromtimestamp(data.iloc[1,5]/1000)\n",
    "dt"
   ]
  },
  {
   "cell_type": "code",
   "execution_count": 10,
   "metadata": {},
   "outputs": [],
   "source": [
    "data_discharge = data[data.iloc[:,14]==False]\n",
    "data_charge = data[data.iloc[:,14]==True]"
   ]
  },
  {
   "cell_type": "code",
   "execution_count": 11,
   "metadata": {},
   "outputs": [],
   "source": [
    "data_charge  = data_charge.iloc[:,[4,5,6,7,10,11,12]]"
   ]
  },
  {
   "cell_type": "code",
   "execution_count": 12,
   "metadata": {},
   "outputs": [
    {
     "data": {
      "text/html": [
       "<div>\n",
       "<style scoped>\n",
       "    .dataframe tbody tr th:only-of-type {\n",
       "        vertical-align: middle;\n",
       "    }\n",
       "\n",
       "    .dataframe tbody tr th {\n",
       "        vertical-align: top;\n",
       "    }\n",
       "\n",
       "    .dataframe thead th {\n",
       "        text-align: right;\n",
       "    }\n",
       "</style>\n",
       "<table border=\"1\" class=\"dataframe\">\n",
       "  <thead>\n",
       "    <tr style=\"text-align: right;\">\n",
       "      <th></th>\n",
       "      <th>5000.0</th>\n",
       "      <th>1570599938843</th>\n",
       "      <th>false</th>\n",
       "      <th>37</th>\n",
       "      <th>24.7</th>\n",
       "      <th>3741</th>\n",
       "      <th>130</th>\n",
       "    </tr>\n",
       "  </thead>\n",
       "  <tbody>\n",
       "    <tr>\n",
       "      <th>39250</th>\n",
       "      <td>5000.0</td>\n",
       "      <td>1570689725332</td>\n",
       "      <td>True</td>\n",
       "      <td>15</td>\n",
       "      <td>26.0</td>\n",
       "      <td>3669</td>\n",
       "      <td>776</td>\n",
       "    </tr>\n",
       "    <tr>\n",
       "      <th>39251</th>\n",
       "      <td>5000.0</td>\n",
       "      <td>1570689725394</td>\n",
       "      <td>True</td>\n",
       "      <td>15</td>\n",
       "      <td>26.0</td>\n",
       "      <td>3669</td>\n",
       "      <td>776</td>\n",
       "    </tr>\n",
       "    <tr>\n",
       "      <th>39252</th>\n",
       "      <td>5000.0</td>\n",
       "      <td>1570689727130</td>\n",
       "      <td>True</td>\n",
       "      <td>15</td>\n",
       "      <td>26.0</td>\n",
       "      <td>3669</td>\n",
       "      <td>776</td>\n",
       "    </tr>\n",
       "    <tr>\n",
       "      <th>39253</th>\n",
       "      <td>5000.0</td>\n",
       "      <td>1570689728120</td>\n",
       "      <td>True</td>\n",
       "      <td>15</td>\n",
       "      <td>26.0</td>\n",
       "      <td>3669</td>\n",
       "      <td>776</td>\n",
       "    </tr>\n",
       "    <tr>\n",
       "      <th>39254</th>\n",
       "      <td>5000.0</td>\n",
       "      <td>1570689730143</td>\n",
       "      <td>True</td>\n",
       "      <td>15</td>\n",
       "      <td>26.0</td>\n",
       "      <td>3669</td>\n",
       "      <td>776</td>\n",
       "    </tr>\n",
       "  </tbody>\n",
       "</table>\n",
       "</div>"
      ],
      "text/plain": [
       "       5000.0  1570599938843  false  37  24.7  3741  130\n",
       "39250  5000.0  1570689725332   True  15  26.0  3669  776\n",
       "39251  5000.0  1570689725394   True  15  26.0  3669  776\n",
       "39252  5000.0  1570689727130   True  15  26.0  3669  776\n",
       "39253  5000.0  1570689728120   True  15  26.0  3669  776\n",
       "39254  5000.0  1570689730143   True  15  26.0  3669  776"
      ]
     },
     "execution_count": 12,
     "metadata": {},
     "output_type": "execute_result"
    }
   ],
   "source": [
    "data_charge.head()"
   ]
  },
  {
   "cell_type": "code",
   "execution_count": 13,
   "metadata": {},
   "outputs": [],
   "source": [
    "def data_clean(data):\n",
    "    data.replace(['none'], False,inplace=True)\n",
    "    data.replace(['wi-fi'],True,inplace=True)\n",
    "    \n",
    "    #data.iloc[:,4] = data.iloc[:,4]/1000\n",
    "    #data.iloc[:,7] = data.iloc[:,7]/100\n",
    "    #for samsungsm-a910f\n",
    "    #timestamp = 1508308200000\n",
    "    #2\n",
    "    timestamp=1499668200000\n",
    "    #3\n",
    "    #timestamp = 1508913000000\n",
    "    #4\n",
    "    #timestamp = 1520663400000\n",
    "    data.iloc[:,5] = data.iloc[:,5]-timestamp\n",
    "    \n",
    "    \n",
    "    \n",
    "    data_discharge = data[data.iloc[:,14]==False]\n",
    "    data_charge = data[data.iloc[:,14]==True]\n",
    "    \n",
    "    data_charge = data_charge.iloc[:,[5,4,6,7,10,11,12]]\n",
    "    data_discharge = data_discharge.iloc[:,[5,4,6,7,10,11,12]]\n",
    "    \n",
    "    return data_charge,data_discharge"
   ]
  },
  {
   "cell_type": "code",
   "execution_count": 14,
   "metadata": {},
   "outputs": [],
   "source": [
    "x,y = data_clean(data)"
   ]
  },
  {
   "cell_type": "code",
   "execution_count": 15,
   "metadata": {},
   "outputs": [
    {
     "data": {
      "text/html": [
       "<div>\n",
       "<style scoped>\n",
       "    .dataframe tbody tr th:only-of-type {\n",
       "        vertical-align: middle;\n",
       "    }\n",
       "\n",
       "    .dataframe tbody tr th {\n",
       "        vertical-align: top;\n",
       "    }\n",
       "\n",
       "    .dataframe thead th {\n",
       "        text-align: right;\n",
       "    }\n",
       "</style>\n",
       "<table border=\"1\" class=\"dataframe\">\n",
       "  <thead>\n",
       "    <tr style=\"text-align: right;\">\n",
       "      <th></th>\n",
       "      <th>1570599938843</th>\n",
       "      <th>5000.0</th>\n",
       "      <th>false</th>\n",
       "      <th>37</th>\n",
       "      <th>24.7</th>\n",
       "      <th>3741</th>\n",
       "      <th>130</th>\n",
       "    </tr>\n",
       "  </thead>\n",
       "  <tbody>\n",
       "    <tr>\n",
       "      <th>0</th>\n",
       "      <td>70931742514</td>\n",
       "      <td>5000.0</td>\n",
       "      <td>False</td>\n",
       "      <td>37</td>\n",
       "      <td>24.7</td>\n",
       "      <td>3763</td>\n",
       "      <td>130</td>\n",
       "    </tr>\n",
       "    <tr>\n",
       "      <th>1</th>\n",
       "      <td>70931742526</td>\n",
       "      <td>5000.0</td>\n",
       "      <td>False</td>\n",
       "      <td>37</td>\n",
       "      <td>24.7</td>\n",
       "      <td>3763</td>\n",
       "      <td>130</td>\n",
       "    </tr>\n",
       "    <tr>\n",
       "      <th>2</th>\n",
       "      <td>70931746877</td>\n",
       "      <td>5000.0</td>\n",
       "      <td>False</td>\n",
       "      <td>37</td>\n",
       "      <td>24.7</td>\n",
       "      <td>3763</td>\n",
       "      <td>130</td>\n",
       "    </tr>\n",
       "    <tr>\n",
       "      <th>3</th>\n",
       "      <td>70931747492</td>\n",
       "      <td>5000.0</td>\n",
       "      <td>False</td>\n",
       "      <td>37</td>\n",
       "      <td>24.7</td>\n",
       "      <td>3763</td>\n",
       "      <td>130</td>\n",
       "    </tr>\n",
       "    <tr>\n",
       "      <th>4</th>\n",
       "      <td>70931753460</td>\n",
       "      <td>5000.0</td>\n",
       "      <td>False</td>\n",
       "      <td>37</td>\n",
       "      <td>24.7</td>\n",
       "      <td>3763</td>\n",
       "      <td>130</td>\n",
       "    </tr>\n",
       "  </tbody>\n",
       "</table>\n",
       "</div>"
      ],
      "text/plain": [
       "   1570599938843  5000.0  false  37  24.7  3741  130\n",
       "0    70931742514  5000.0  False  37  24.7  3763  130\n",
       "1    70931742526  5000.0  False  37  24.7  3763  130\n",
       "2    70931746877  5000.0  False  37  24.7  3763  130\n",
       "3    70931747492  5000.0  False  37  24.7  3763  130\n",
       "4    70931753460  5000.0  False  37  24.7  3763  130"
      ]
     },
     "execution_count": 15,
     "metadata": {},
     "output_type": "execute_result"
    }
   ],
   "source": [
    "y.head()\n",
    "# y.iloc[:,0]=y.iloc[:,0]-min(y.iloc[:,0])\n",
    "# x.iloc[:,0]=x.iloc[:,0]-min(x.iloc[:,0])"
   ]
  },
  {
   "cell_type": "code",
   "execution_count": 16,
   "metadata": {},
   "outputs": [
    {
     "name": "stderr",
     "output_type": "stream",
     "text": [
      "/Users/rahulgarg/Documents/env/lib/python3.6/site-packages/ipykernel_launcher.py:10: RuntimeWarning: divide by zero encountered in long_scalars\n",
      "  # Remove the CWD from sys.path while we load stuff.\n"
     ]
    }
   ],
   "source": [
    "#y.iloc[:,1:]\n",
    "ls = [0]\n",
    "ls2 = [0]\n",
    "dif = 0\n",
    "charge = 0\n",
    "for i in range(y.shape[0]-1):\n",
    "    #print(y.iloc[i+1,0])\n",
    "    charge+=(y.iloc[i+1,0]-y.iloc[i,0])*y.iloc[i,6]#*y.iloc[i,5]\n",
    "    ls.append((y.iloc[i+1,0]-y.iloc[i,0]*y.iloc[i,6])/1000000)\n",
    "    ls2.append(y.iloc[i,5]/y.iloc[i,6])\n",
    "    if y.iloc[i,3]-y.iloc[i+1,3]==1:\n",
    "           dif+=1\n",
    "    if dif==100:\n",
    "        charge_limit = charge\n",
    "y['charge'] = ls\n",
    "y['v/i'] = ls2"
   ]
  },
  {
   "cell_type": "code",
   "execution_count": 17,
   "metadata": {},
   "outputs": [
    {
     "data": {
      "text/html": [
       "<div>\n",
       "<style scoped>\n",
       "    .dataframe tbody tr th:only-of-type {\n",
       "        vertical-align: middle;\n",
       "    }\n",
       "\n",
       "    .dataframe tbody tr th {\n",
       "        vertical-align: top;\n",
       "    }\n",
       "\n",
       "    .dataframe thead th {\n",
       "        text-align: right;\n",
       "    }\n",
       "</style>\n",
       "<table border=\"1\" class=\"dataframe\">\n",
       "  <thead>\n",
       "    <tr style=\"text-align: right;\">\n",
       "      <th></th>\n",
       "      <th>1570599938843</th>\n",
       "      <th>5000.0</th>\n",
       "      <th>false</th>\n",
       "      <th>37</th>\n",
       "      <th>24.7</th>\n",
       "      <th>3741</th>\n",
       "      <th>130</th>\n",
       "      <th>charge</th>\n",
       "      <th>v/i</th>\n",
       "    </tr>\n",
       "  </thead>\n",
       "  <tbody>\n",
       "    <tr>\n",
       "      <th>0</th>\n",
       "      <td>70931742514</td>\n",
       "      <td>5000.0</td>\n",
       "      <td>False</td>\n",
       "      <td>37</td>\n",
       "      <td>24.7</td>\n",
       "      <td>3763</td>\n",
       "      <td>130</td>\n",
       "      <td>0.000000e+00</td>\n",
       "      <td>0.000000</td>\n",
       "    </tr>\n",
       "    <tr>\n",
       "      <th>1</th>\n",
       "      <td>70931742526</td>\n",
       "      <td>5000.0</td>\n",
       "      <td>False</td>\n",
       "      <td>37</td>\n",
       "      <td>24.7</td>\n",
       "      <td>3763</td>\n",
       "      <td>130</td>\n",
       "      <td>-9.150195e+06</td>\n",
       "      <td>28.946154</td>\n",
       "    </tr>\n",
       "    <tr>\n",
       "      <th>2</th>\n",
       "      <td>70931746877</td>\n",
       "      <td>5000.0</td>\n",
       "      <td>False</td>\n",
       "      <td>37</td>\n",
       "      <td>24.7</td>\n",
       "      <td>3763</td>\n",
       "      <td>130</td>\n",
       "      <td>-9.150195e+06</td>\n",
       "      <td>28.946154</td>\n",
       "    </tr>\n",
       "    <tr>\n",
       "      <th>3</th>\n",
       "      <td>70931747492</td>\n",
       "      <td>5000.0</td>\n",
       "      <td>False</td>\n",
       "      <td>37</td>\n",
       "      <td>24.7</td>\n",
       "      <td>3763</td>\n",
       "      <td>130</td>\n",
       "      <td>-9.150195e+06</td>\n",
       "      <td>28.946154</td>\n",
       "    </tr>\n",
       "    <tr>\n",
       "      <th>4</th>\n",
       "      <td>70931753460</td>\n",
       "      <td>5000.0</td>\n",
       "      <td>False</td>\n",
       "      <td>37</td>\n",
       "      <td>24.7</td>\n",
       "      <td>3763</td>\n",
       "      <td>130</td>\n",
       "      <td>-9.150195e+06</td>\n",
       "      <td>28.946154</td>\n",
       "    </tr>\n",
       "  </tbody>\n",
       "</table>\n",
       "</div>"
      ],
      "text/plain": [
       "   1570599938843  5000.0  false  37  24.7  3741  130        charge        v/i\n",
       "0    70931742514  5000.0  False  37  24.7  3763  130  0.000000e+00   0.000000\n",
       "1    70931742526  5000.0  False  37  24.7  3763  130 -9.150195e+06  28.946154\n",
       "2    70931746877  5000.0  False  37  24.7  3763  130 -9.150195e+06  28.946154\n",
       "3    70931747492  5000.0  False  37  24.7  3763  130 -9.150195e+06  28.946154\n",
       "4    70931753460  5000.0  False  37  24.7  3763  130 -9.150195e+06  28.946154"
      ]
     },
     "execution_count": 17,
     "metadata": {},
     "output_type": "execute_result"
    }
   ],
   "source": [
    "y.head()"
   ]
  },
  {
   "cell_type": "code",
   "execution_count": 18,
   "metadata": {},
   "outputs": [
    {
     "data": {
      "text/plain": [
       "(350588, 9)"
      ]
     },
     "execution_count": 18,
     "metadata": {},
     "output_type": "execute_result"
    }
   ],
   "source": [
    "y.shape"
   ]
  },
  {
   "cell_type": "code",
   "execution_count": 19,
   "metadata": {},
   "outputs": [
    {
     "name": "stdout",
     "output_type": "stream",
     "text": [
      "3454.9478030555556\n"
     ]
    }
   ],
   "source": [
    "#charge_limit = 24875624182\n",
    "charge_limit = charge_limit/3600000\n",
    "charge_limit = charge_limit/2\n",
    "print(charge_limit)\n"
   ]
  },
  {
   "cell_type": "code",
   "execution_count": 20,
   "metadata": {},
   "outputs": [
    {
     "data": {
      "text/plain": [
       "1.4456089627755693"
      ]
     },
     "execution_count": 20,
     "metadata": {},
     "output_type": "execute_result"
    }
   ],
   "source": [
    "5000/3454.94\n",
    "5000/2833.7337681944446\n",
    "5000/4315.313589722222\n",
    "3300/2230.8774704166667\n",
    "4000/2767"
   ]
  },
  {
   "cell_type": "markdown",
   "metadata": {},
   "source": [
    "## Model"
   ]
  },
  {
   "cell_type": "code",
   "execution_count": 21,
   "metadata": {},
   "outputs": [
    {
     "name": "stderr",
     "output_type": "stream",
     "text": [
      "Using TensorFlow backend.\n"
     ]
    }
   ],
   "source": [
    "import matplotlib.pyplot as plt\n",
    "from keras.layers import Dense,Activation,Input\n",
    "from keras.models import Sequential,Model\n",
    "from keras import optimizers"
   ]
  },
  {
   "cell_type": "code",
   "execution_count": 22,
   "metadata": {},
   "outputs": [
    {
     "name": "stdout",
     "output_type": "stream",
     "text": [
      "_________________________________________________________________\n",
      "Layer (type)                 Output Shape              Param #   \n",
      "=================================================================\n",
      "input_1 (InputLayer)         (None, 8)                 0         \n",
      "_________________________________________________________________\n",
      "dense_1 (Dense)              (None, 32)                288       \n",
      "_________________________________________________________________\n",
      "dense_2 (Dense)              (None, 32)                1056      \n",
      "_________________________________________________________________\n",
      "dense_3 (Dense)              (None, 32)                1056      \n",
      "_________________________________________________________________\n",
      "dense_4 (Dense)              (None, 32)                1056      \n",
      "_________________________________________________________________\n",
      "dense_5 (Dense)              (None, 1)                 33        \n",
      "_________________________________________________________________\n",
      "activation_1 (Activation)    (None, 1)                 0         \n",
      "=================================================================\n",
      "Total params: 3,489\n",
      "Trainable params: 3,489\n",
      "Non-trainable params: 0\n",
      "_________________________________________________________________\n"
     ]
    }
   ],
   "source": [
    "# model = Sequential()\n",
    "# model.add(Dense(16, input_dim=(6)))\n",
    "# model.add(Activation('relu'))\n",
    "# model.add(Dense(16,activation='relu'))\n",
    "# model.add(Dense(1,activation='relu'))\n",
    "\n",
    "# model.summary()\n",
    "\n",
    "\n",
    "inp = Input(shape=(8,))\n",
    "h1 = Dense(32,activation='relu')(inp)\n",
    "h2 = Dense(32,activation='relu')(h1)\n",
    "h3 = Dense(32,activation='relu')(h2)\n",
    "h4 = Dense(32,activation='relu')(h3)\n",
    "h5 = Dense(1)(h4)\n",
    "\n",
    "out = Activation('relu')(h5)\n",
    "\n",
    "model = Model(inputs=inp,outputs=out)\n",
    "\n",
    "model.summary()"
   ]
  },
  {
   "cell_type": "code",
   "execution_count": 23,
   "metadata": {},
   "outputs": [],
   "source": [
    "adam = optimizers.adam(lr = 0.1)\n",
    "model.compile(loss='mae', optimizer='adam' ,metrics=['accuracy'])"
   ]
  },
  {
   "cell_type": "code",
   "execution_count": 24,
   "metadata": {},
   "outputs": [
    {
     "name": "stdout",
     "output_type": "stream",
     "text": [
      "Train on 280470 samples, validate on 70118 samples\n",
      "Epoch 1/100\n",
      "280470/280470 [==============================] - 2s 7us/step - loss: nan - acc: 0.0000e+00 - val_loss: nan - val_acc: 0.0000e+00\n",
      "Epoch 2/100\n",
      "280470/280470 [==============================] - 2s 7us/step - loss: nan - acc: 0.0000e+00 - val_loss: nan - val_acc: 0.0000e+00\n",
      "Epoch 3/100\n",
      "280470/280470 [==============================] - 2s 6us/step - loss: nan - acc: 0.0000e+00 - val_loss: nan - val_acc: 0.0000e+00\n",
      "Epoch 4/100\n",
      "280470/280470 [==============================] - 2s 6us/step - loss: nan - acc: 0.0000e+00 - val_loss: nan - val_acc: 0.0000e+00\n",
      "Epoch 5/100\n",
      "280470/280470 [==============================] - 2s 6us/step - loss: nan - acc: 0.0000e+00 - val_loss: nan - val_acc: 0.0000e+00\n",
      "Epoch 6/100\n",
      "280470/280470 [==============================] - 2s 6us/step - loss: nan - acc: 0.0000e+00 - val_loss: nan - val_acc: 0.0000e+00\n",
      "Epoch 7/100\n",
      "280470/280470 [==============================] - 2s 6us/step - loss: nan - acc: 0.0000e+00 - val_loss: nan - val_acc: 0.0000e+00\n",
      "Epoch 8/100\n",
      "280470/280470 [==============================] - 2s 7us/step - loss: nan - acc: 0.0000e+00 - val_loss: nan - val_acc: 0.0000e+00\n",
      "Epoch 9/100\n",
      "280470/280470 [==============================] - 2s 6us/step - loss: nan - acc: 0.0000e+00 - val_loss: nan - val_acc: 0.0000e+00\n",
      "Epoch 10/100\n",
      "280470/280470 [==============================] - 2s 6us/step - loss: nan - acc: 0.0000e+00 - val_loss: nan - val_acc: 0.0000e+00\n",
      "Epoch 11/100\n",
      "280470/280470 [==============================] - 2s 6us/step - loss: nan - acc: 0.0000e+00 - val_loss: nan - val_acc: 0.0000e+00\n",
      "Epoch 12/100\n",
      "280470/280470 [==============================] - 2s 6us/step - loss: nan - acc: 0.0000e+00 - val_loss: nan - val_acc: 0.0000e+00\n",
      "Epoch 13/100\n",
      "280470/280470 [==============================] - 2s 6us/step - loss: nan - acc: 0.0000e+00 - val_loss: nan - val_acc: 0.0000e+00\n",
      "Epoch 14/100\n",
      "280470/280470 [==============================] - 2s 6us/step - loss: nan - acc: 0.0000e+00 - val_loss: nan - val_acc: 0.0000e+00\n",
      "Epoch 15/100\n",
      "280470/280470 [==============================] - 2s 6us/step - loss: nan - acc: 0.0000e+00 - val_loss: nan - val_acc: 0.0000e+00\n",
      "Epoch 16/100\n",
      "280470/280470 [==============================] - 2s 6us/step - loss: nan - acc: 0.0000e+00 - val_loss: nan - val_acc: 0.0000e+00\n",
      "Epoch 17/100\n",
      "280470/280470 [==============================] - 2s 6us/step - loss: nan - acc: 0.0000e+00 - val_loss: nan - val_acc: 0.0000e+00\n",
      "Epoch 18/100\n",
      "280470/280470 [==============================] - 2s 6us/step - loss: nan - acc: 0.0000e+00 - val_loss: nan - val_acc: 0.0000e+00\n",
      "Epoch 19/100\n",
      "280470/280470 [==============================] - 2s 6us/step - loss: nan - acc: 0.0000e+00 - val_loss: nan - val_acc: 0.0000e+00\n",
      "Epoch 20/100\n",
      "280470/280470 [==============================] - 2s 7us/step - loss: nan - acc: 0.0000e+00 - val_loss: nan - val_acc: 0.0000e+00\n",
      "Epoch 21/100\n",
      "280470/280470 [==============================] - 2s 6us/step - loss: nan - acc: 0.0000e+00 - val_loss: nan - val_acc: 0.0000e+00\n",
      "Epoch 22/100\n",
      "280470/280470 [==============================] - 2s 6us/step - loss: nan - acc: 0.0000e+00 - val_loss: nan - val_acc: 0.0000e+00\n",
      "Epoch 23/100\n",
      "280470/280470 [==============================] - 2s 6us/step - loss: nan - acc: 0.0000e+00 - val_loss: nan - val_acc: 0.0000e+00\n",
      "Epoch 24/100\n",
      "280470/280470 [==============================] - 2s 6us/step - loss: nan - acc: 0.0000e+00 - val_loss: nan - val_acc: 0.0000e+00\n",
      "Epoch 25/100\n",
      "280470/280470 [==============================] - 2s 6us/step - loss: nan - acc: 0.0000e+00 - val_loss: nan - val_acc: 0.0000e+00\n",
      "Epoch 26/100\n",
      "280470/280470 [==============================] - 4s 13us/step - loss: nan - acc: 0.0000e+00 - val_loss: nan - val_acc: 0.0000e+00\n",
      "Epoch 27/100\n",
      "280470/280470 [==============================] - 3s 10us/step - loss: nan - acc: 0.0000e+00 - val_loss: nan - val_acc: 0.0000e+00\n",
      "Epoch 28/100\n",
      "280470/280470 [==============================] - 2s 6us/step - loss: nan - acc: 0.0000e+00 - val_loss: nan - val_acc: 0.0000e+00\n",
      "Epoch 29/100\n",
      "280470/280470 [==============================] - 2s 7us/step - loss: nan - acc: 0.0000e+00 - val_loss: nan - val_acc: 0.0000e+00\n",
      "Epoch 30/100\n",
      "280470/280470 [==============================] - 2s 7us/step - loss: nan - acc: 0.0000e+00 - val_loss: nan - val_acc: 0.0000e+00\n",
      "Epoch 31/100\n",
      "280470/280470 [==============================] - 2s 6us/step - loss: nan - acc: 0.0000e+00 - val_loss: nan - val_acc: 0.0000e+00\n",
      "Epoch 32/100\n",
      "280470/280470 [==============================] - 2s 6us/step - loss: nan - acc: 0.0000e+00 - val_loss: nan - val_acc: 0.0000e+00\n",
      "Epoch 33/100\n",
      "280470/280470 [==============================] - 3s 11us/step - loss: nan - acc: 0.0000e+00 - val_loss: nan - val_acc: 0.0000e+00\n",
      "Epoch 34/100\n",
      "280470/280470 [==============================] - 5s 17us/step - loss: nan - acc: 0.0000e+00 - val_loss: nan - val_acc: 0.0000e+00\n",
      "Epoch 35/100\n",
      "280470/280470 [==============================] - 2s 7us/step - loss: nan - acc: 0.0000e+00 - val_loss: nan - val_acc: 0.0000e+00\n",
      "Epoch 36/100\n",
      "280470/280470 [==============================] - 2s 7us/step - loss: nan - acc: 0.0000e+00 - val_loss: nan - val_acc: 0.0000e+00\n",
      "Epoch 37/100\n",
      "280470/280470 [==============================] - 2s 7us/step - loss: nan - acc: 0.0000e+00 - val_loss: nan - val_acc: 0.0000e+00\n",
      "Epoch 38/100\n",
      "280470/280470 [==============================] - 5s 18us/step - loss: nan - acc: 0.0000e+00 - val_loss: nan - val_acc: 0.0000e+00\n",
      "Epoch 39/100\n",
      "280470/280470 [==============================] - 2s 9us/step - loss: nan - acc: 0.0000e+00 - val_loss: nan - val_acc: 0.0000e+00\n",
      "Epoch 40/100\n",
      "280470/280470 [==============================] - 2s 7us/step - loss: nan - acc: 0.0000e+00 - val_loss: nan - val_acc: 0.0000e+00\n",
      "Epoch 41/100\n",
      "280470/280470 [==============================] - 2s 7us/step - loss: nan - acc: 0.0000e+00 - val_loss: nan - val_acc: 0.0000e+00\n",
      "Epoch 42/100\n",
      "280470/280470 [==============================] - 2s 7us/step - loss: nan - acc: 0.0000e+00 - val_loss: nan - val_acc: 0.0000e+00\n",
      "Epoch 43/100\n",
      "280470/280470 [==============================] - 3s 11us/step - loss: nan - acc: 0.0000e+00 - val_loss: nan - val_acc: 0.0000e+00\n",
      "Epoch 44/100\n",
      "280470/280470 [==============================] - 3s 11us/step - loss: nan - acc: 0.0000e+00 - val_loss: nan - val_acc: 0.0000e+00\n",
      "Epoch 45/100\n",
      "280470/280470 [==============================] - 4s 16us/step - loss: nan - acc: 0.0000e+00 - val_loss: nan - val_acc: 0.0000e+00\n",
      "Epoch 46/100\n",
      "280470/280470 [==============================] - 2s 7us/step - loss: nan - acc: 0.0000e+00 - val_loss: nan - val_acc: 0.0000e+00\n",
      "Epoch 47/100\n",
      "280470/280470 [==============================] - 2s 9us/step - loss: nan - acc: 0.0000e+00 - val_loss: nan - val_acc: 0.0000e+00\n",
      "Epoch 48/100\n",
      "280470/280470 [==============================] - 2s 7us/step - loss: nan - acc: 0.0000e+00 - val_loss: nan - val_acc: 0.0000e+00\n",
      "Epoch 49/100\n",
      "280470/280470 [==============================] - 3s 10us/step - loss: nan - acc: 0.0000e+00 - val_loss: nan - val_acc: 0.0000e+00\n",
      "Epoch 50/100\n",
      "280470/280470 [==============================] - 4s 16us/step - loss: nan - acc: 0.0000e+00 - val_loss: nan - val_acc: 0.0000e+00\n",
      "Epoch 51/100\n",
      "280470/280470 [==============================] - 3s 12us/step - loss: nan - acc: 0.0000e+00 - val_loss: nan - val_acc: 0.0000e+00\n",
      "Epoch 52/100\n",
      "280470/280470 [==============================] - 2s 6us/step - loss: nan - acc: 0.0000e+00 - val_loss: nan - val_acc: 0.0000e+00\n",
      "Epoch 53/100\n",
      "280470/280470 [==============================] - 2s 6us/step - loss: nan - acc: 0.0000e+00 - val_loss: nan - val_acc: 0.0000e+00\n",
      "Epoch 54/100\n",
      "280470/280470 [==============================] - 2s 6us/step - loss: nan - acc: 0.0000e+00 - val_loss: nan - val_acc: 0.0000e+00\n",
      "Epoch 55/100\n",
      "280470/280470 [==============================] - 5s 16us/step - loss: nan - acc: 0.0000e+00 - val_loss: nan - val_acc: 0.0000e+00\n",
      "Epoch 56/100\n",
      "280470/280470 [==============================] - 2s 8us/step - loss: nan - acc: 0.0000e+00 - val_loss: nan - val_acc: 0.0000e+00\n",
      "Epoch 57/100\n",
      "280470/280470 [==============================] - 2s 6us/step - loss: nan - acc: 0.0000e+00 - val_loss: nan - val_acc: 0.0000e+00\n",
      "Epoch 58/100\n"
     ]
    },
    {
     "name": "stdout",
     "output_type": "stream",
     "text": [
      "280470/280470 [==============================] - 2s 6us/step - loss: nan - acc: 0.0000e+00 - val_loss: nan - val_acc: 0.0000e+00\n",
      "Epoch 59/100\n",
      "280470/280470 [==============================] - 3s 9us/step - loss: nan - acc: 0.0000e+00 - val_loss: nan - val_acc: 0.0000e+00\n",
      "Epoch 60/100\n",
      "280470/280470 [==============================] - 3s 12us/step - loss: nan - acc: 0.0000e+00 - val_loss: nan - val_acc: 0.0000e+00\n",
      "Epoch 61/100\n",
      "280470/280470 [==============================] - 2s 6us/step - loss: nan - acc: 0.0000e+00 - val_loss: nan - val_acc: 0.0000e+00\n",
      "Epoch 62/100\n",
      "280470/280470 [==============================] - 2s 6us/step - loss: nan - acc: 0.0000e+00 - val_loss: nan - val_acc: 0.0000e+00\n",
      "Epoch 63/100\n",
      "280470/280470 [==============================] - 2s 6us/step - loss: nan - acc: 0.0000e+00 - val_loss: nan - val_acc: 0.0000e+00\n",
      "Epoch 64/100\n",
      "280470/280470 [==============================] - 3s 12us/step - loss: nan - acc: 0.0000e+00 - val_loss: nan - val_acc: 0.0000e+00\n",
      "Epoch 65/100\n",
      "280470/280470 [==============================] - 2s 9us/step - loss: nan - acc: 0.0000e+00 - val_loss: nan - val_acc: 0.0000e+00\n",
      "Epoch 66/100\n",
      "280470/280470 [==============================] - 2s 8us/step - loss: nan - acc: 0.0000e+00 - val_loss: nan - val_acc: 0.0000e+00\n",
      "Epoch 67/100\n",
      "280470/280470 [==============================] - 4s 14us/step - loss: nan - acc: 0.0000e+00 - val_loss: nan - val_acc: 0.0000e+00\n",
      "Epoch 68/100\n",
      "280470/280470 [==============================] - 4s 14us/step - loss: nan - acc: 0.0000e+00 - val_loss: nan - val_acc: 0.0000e+00\n",
      "Epoch 69/100\n",
      "280470/280470 [==============================] - 2s 9us/step - loss: nan - acc: 0.0000e+00 - val_loss: nan - val_acc: 0.0000e+00\n",
      "Epoch 70/100\n",
      "280470/280470 [==============================] - 2s 7us/step - loss: nan - acc: 0.0000e+00 - val_loss: nan - val_acc: 0.0000e+00\n",
      "Epoch 71/100\n",
      "280470/280470 [==============================] - 2s 8us/step - loss: nan - acc: 0.0000e+00 - val_loss: nan - val_acc: 0.0000e+00\n",
      "Epoch 72/100\n",
      "280470/280470 [==============================] - 2s 7us/step - loss: nan - acc: 0.0000e+00 - val_loss: nan - val_acc: 0.0000e+00\n",
      "Epoch 73/100\n",
      "280470/280470 [==============================] - 2s 6us/step - loss: nan - acc: 0.0000e+00 - val_loss: nan - val_acc: 0.0000e+00\n",
      "Epoch 74/100\n",
      "280470/280470 [==============================] - 2s 6us/step - loss: nan - acc: 0.0000e+00 - val_loss: nan - val_acc: 0.0000e+00\n",
      "Epoch 75/100\n",
      "280470/280470 [==============================] - 2s 6us/step - loss: nan - acc: 0.0000e+00 - val_loss: nan - val_acc: 0.0000e+00\n",
      "Epoch 76/100\n",
      "280470/280470 [==============================] - 2s 6us/step - loss: nan - acc: 0.0000e+00 - val_loss: nan - val_acc: 0.0000e+00\n",
      "Epoch 77/100\n",
      "280470/280470 [==============================] - 2s 6us/step - loss: nan - acc: 0.0000e+00 - val_loss: nan - val_acc: 0.0000e+00\n",
      "Epoch 78/100\n",
      "280470/280470 [==============================] - 2s 6us/step - loss: nan - acc: 0.0000e+00 - val_loss: nan - val_acc: 0.0000e+00: 0s\n",
      "Epoch 79/100\n",
      "280470/280470 [==============================] - 2s 6us/step - loss: nan - acc: 0.0000e+00 - val_loss: nan - val_acc: 0.0000e+00\n",
      "Epoch 80/100\n",
      "280470/280470 [==============================] - 2s 6us/step - loss: nan - acc: 0.0000e+00 - val_loss: nan - val_acc: 0.0000e+00\n",
      "Epoch 81/100\n",
      "280470/280470 [==============================] - 2s 6us/step - loss: nan - acc: 0.0000e+00 - val_loss: nan - val_acc: 0.0000e+00\n",
      "Epoch 82/100\n",
      "280470/280470 [==============================] - 2s 6us/step - loss: nan - acc: 0.0000e+00 - val_loss: nan - val_acc: 0.0000e+00\n",
      "Epoch 83/100\n",
      "280470/280470 [==============================] - 2s 7us/step - loss: nan - acc: 0.0000e+00 - val_loss: nan - val_acc: 0.0000e+00\n",
      "Epoch 84/100\n",
      "280470/280470 [==============================] - 2s 7us/step - loss: nan - acc: 0.0000e+00 - val_loss: nan - val_acc: 0.0000e+00\n",
      "Epoch 85/100\n",
      "280470/280470 [==============================] - 2s 6us/step - loss: nan - acc: 0.0000e+00 - val_loss: nan - val_acc: 0.0000e+00\n",
      "Epoch 86/100\n",
      "280470/280470 [==============================] - 2s 6us/step - loss: nan - acc: 0.0000e+00 - val_loss: nan - val_acc: 0.0000e+00\n",
      "Epoch 87/100\n",
      "280470/280470 [==============================] - 2s 6us/step - loss: nan - acc: 0.0000e+00 - val_loss: nan - val_acc: 0.0000e+00\n",
      "Epoch 88/100\n",
      "280470/280470 [==============================] - 2s 7us/step - loss: nan - acc: 0.0000e+00 - val_loss: nan - val_acc: 0.0000e+00\n",
      "Epoch 89/100\n",
      "280470/280470 [==============================] - 2s 6us/step - loss: nan - acc: 0.0000e+00 - val_loss: nan - val_acc: 0.0000e+00 n\n",
      "Epoch 90/100\n",
      "280470/280470 [==============================] - 2s 7us/step - loss: nan - acc: 0.0000e+00 - val_loss: nan - val_acc: 0.0000e+00\n",
      "Epoch 91/100\n",
      "280470/280470 [==============================] - 2s 7us/step - loss: nan - acc: 0.0000e+00 - val_loss: nan - val_acc: 0.0000e+00\n",
      "Epoch 92/100\n",
      "280470/280470 [==============================] - 2s 7us/step - loss: nan - acc: 0.0000e+00 - val_loss: nan - val_acc: 0.0000e+00\n",
      "Epoch 93/100\n",
      "280470/280470 [==============================] - 2s 7us/step - loss: nan - acc: 0.0000e+00 - val_loss: nan - val_acc: 0.0000e+00\n",
      "Epoch 94/100\n",
      "280470/280470 [==============================] - 2s 8us/step - loss: nan - acc: 0.0000e+00 - val_loss: nan - val_acc: 0.0000e+00\n",
      "Epoch 95/100\n",
      "280470/280470 [==============================] - 2s 9us/step - loss: nan - acc: 0.0000e+00 - val_loss: nan - val_acc: 0.0000e+00\n",
      "Epoch 96/100\n",
      "280470/280470 [==============================] - 3s 10us/step - loss: nan - acc: 0.0000e+00 - val_loss: nan - val_acc: 0.0000e+00\n",
      "Epoch 97/100\n",
      "280470/280470 [==============================] - 2s 7us/step - loss: nan - acc: 0.0000e+00 - val_loss: nan - val_acc: 0.0000e+00\n",
      "Epoch 98/100\n",
      "280470/280470 [==============================] - 2s 7us/step - loss: nan - acc: 0.0000e+00 - val_loss: nan - val_acc: 0.0000e+00\n",
      "Epoch 99/100\n",
      "280470/280470 [==============================] - 2s 8us/step - loss: nan - acc: 0.0000e+00 - val_loss: nan - val_acc: 0.0000e+00: 0s - loss: nan - acc: 0.\n",
      "Epoch 100/100\n",
      "280470/280470 [==============================] - 2s 8us/step - loss: nan - acc: 0.0000e+00 - val_loss: nan - val_acc: 0.0000e+00\n"
     ]
    }
   ],
   "source": [
    "hist = model.fit(y.iloc[:,1:],y.iloc[:,0],epochs=100,shuffle=True,batch_size=256,validation_split=0.20)"
   ]
  },
  {
   "cell_type": "code",
   "execution_count": 25,
   "metadata": {},
   "outputs": [
    {
     "data": {
      "text/plain": [
       "[<matplotlib.lines.Line2D at 0x126eb8828>]"
      ]
     },
     "execution_count": 25,
     "metadata": {},
     "output_type": "execute_result"
    },
    {
     "data": {
      "image/png": "[encoded data removed]",
      "text/plain": [
       "<Figure size 432x288 with 1 Axes>"
      ]
     },
     "metadata": {
      "needs_background": "light"
     },
     "output_type": "display_data"
    },
    {
     "data": {
      "image/png": "[encoded data removed]",
      "text/plain": [
       "<Figure size 432x288 with 1 Axes>"
      ]
     },
     "metadata": {
      "needs_background": "light"
     },
     "output_type": "display_data"
    }
   ],
   "source": [
    "\n",
    "plt.figure(1)\n",
    "plt.plot(hist.history['acc'], color = 'r')\n",
    "plt.plot(hist.history['val_acc'], color = 'b')\n",
    "\n",
    "plt.figure(2)\n",
    "plt.plot(hist.history['loss'], color = 'r')\n",
    "plt.plot(hist.history['val_loss'], color = 'b')\n",
    "\n"
   ]
  },
  {
   "cell_type": "code",
   "execution_count": 26,
   "metadata": {},
   "outputs": [
    {
     "data": {
      "text/plain": [
       "array([[nan],\n",
       "       [nan],\n",
       "       [nan],\n",
       "       ...,\n",
       "       [nan],\n",
       "       [nan],\n",
       "       [nan]], dtype=float32)"
      ]
     },
     "execution_count": 26,
     "metadata": {},
     "output_type": "execute_result"
    }
   ],
   "source": [
    "model.predict(y.iloc[:,1:])"
   ]
  },
  {
   "cell_type": "code",
   "execution_count": null,
   "metadata": {},
   "outputs": [],
   "source": []
  },
  {
   "cell_type": "code",
   "execution_count": 27,
   "metadata": {},
   "outputs": [],
   "source": [
    "import numpy as np\n",
    "from sklearn.linear_model import LinearRegression"
   ]
  },
  {
   "cell_type": "code",
   "execution_count": 28,
   "metadata": {},
   "outputs": [
    {
     "ename": "ValueError",
     "evalue": "Input contains NaN, infinity or a value too large for dtype('float64').",
     "output_type": "error",
     "traceback": [
      "\u001b[0;31m---------------------------------------------------------------------------\u001b[0m",
      "\u001b[0;31mValueError\u001b[0m                                Traceback (most recent call last)",
      "\u001b[0;32m<ipython-input-28-50eaee454dfc>\u001b[0m in \u001b[0;36m<module>\u001b[0;34m\u001b[0m\n\u001b[0;32m----> 1\u001b[0;31m \u001b[0mreg\u001b[0m \u001b[0;34m=\u001b[0m \u001b[0mLinearRegression\u001b[0m\u001b[0;34m(\u001b[0m\u001b[0;34m)\u001b[0m\u001b[0;34m.\u001b[0m\u001b[0mfit\u001b[0m\u001b[0;34m(\u001b[0m\u001b[0my\u001b[0m\u001b[0;34m.\u001b[0m\u001b[0miloc\u001b[0m\u001b[0;34m[\u001b[0m\u001b[0;34m:\u001b[0m\u001b[0;34m,\u001b[0m\u001b[0;36m1\u001b[0m\u001b[0;34m:\u001b[0m\u001b[0;34m]\u001b[0m\u001b[0;34m,\u001b[0m\u001b[0my\u001b[0m\u001b[0;34m.\u001b[0m\u001b[0miloc\u001b[0m\u001b[0;34m[\u001b[0m\u001b[0;34m:\u001b[0m\u001b[0;34m,\u001b[0m\u001b[0;36m0\u001b[0m\u001b[0;34m]\u001b[0m\u001b[0;34m)\u001b[0m\u001b[0;34m\u001b[0m\u001b[0;34m\u001b[0m\u001b[0m\n\u001b[0m",
      "\u001b[0;32m~/Documents/env/lib/python3.6/site-packages/sklearn/linear_model/base.py\u001b[0m in \u001b[0;36mfit\u001b[0;34m(self, X, y, sample_weight)\u001b[0m\n\u001b[1;32m    456\u001b[0m         \u001b[0mn_jobs_\u001b[0m \u001b[0;34m=\u001b[0m \u001b[0mself\u001b[0m\u001b[0;34m.\u001b[0m\u001b[0mn_jobs\u001b[0m\u001b[0;34m\u001b[0m\u001b[0;34m\u001b[0m\u001b[0m\n\u001b[1;32m    457\u001b[0m         X, y = check_X_y(X, y, accept_sparse=['csr', 'csc', 'coo'],\n\u001b[0;32m--> 458\u001b[0;31m                          y_numeric=True, multi_output=True)\n\u001b[0m\u001b[1;32m    459\u001b[0m \u001b[0;34m\u001b[0m\u001b[0m\n\u001b[1;32m    460\u001b[0m         \u001b[0;32mif\u001b[0m \u001b[0msample_weight\u001b[0m \u001b[0;32mis\u001b[0m \u001b[0;32mnot\u001b[0m \u001b[0;32mNone\u001b[0m \u001b[0;32mand\u001b[0m \u001b[0mnp\u001b[0m\u001b[0;34m.\u001b[0m\u001b[0matleast_1d\u001b[0m\u001b[0;34m(\u001b[0m\u001b[0msample_weight\u001b[0m\u001b[0;34m)\u001b[0m\u001b[0;34m.\u001b[0m\u001b[0mndim\u001b[0m \u001b[0;34m>\u001b[0m \u001b[0;36m1\u001b[0m\u001b[0;34m:\u001b[0m\u001b[0;34m\u001b[0m\u001b[0;34m\u001b[0m\u001b[0m\n",
      "\u001b[0;32m~/Documents/env/lib/python3.6/site-packages/sklearn/utils/validation.py\u001b[0m in \u001b[0;36mcheck_X_y\u001b[0;34m(X, y, accept_sparse, accept_large_sparse, dtype, order, copy, force_all_finite, ensure_2d, allow_nd, multi_output, ensure_min_samples, ensure_min_features, y_numeric, warn_on_dtype, estimator)\u001b[0m\n\u001b[1;32m    754\u001b[0m                     \u001b[0mensure_min_features\u001b[0m\u001b[0;34m=\u001b[0m\u001b[0mensure_min_features\u001b[0m\u001b[0;34m,\u001b[0m\u001b[0;34m\u001b[0m\u001b[0;34m\u001b[0m\u001b[0m\n\u001b[1;32m    755\u001b[0m                     \u001b[0mwarn_on_dtype\u001b[0m\u001b[0;34m=\u001b[0m\u001b[0mwarn_on_dtype\u001b[0m\u001b[0;34m,\u001b[0m\u001b[0;34m\u001b[0m\u001b[0;34m\u001b[0m\u001b[0m\n\u001b[0;32m--> 756\u001b[0;31m                     estimator=estimator)\n\u001b[0m\u001b[1;32m    757\u001b[0m     \u001b[0;32mif\u001b[0m \u001b[0mmulti_output\u001b[0m\u001b[0;34m:\u001b[0m\u001b[0;34m\u001b[0m\u001b[0;34m\u001b[0m\u001b[0m\n\u001b[1;32m    758\u001b[0m         y = check_array(y, 'csr', force_all_finite=True, ensure_2d=False,\n",
      "\u001b[0;32m~/Documents/env/lib/python3.6/site-packages/sklearn/utils/validation.py\u001b[0m in \u001b[0;36mcheck_array\u001b[0;34m(array, accept_sparse, accept_large_sparse, dtype, order, copy, force_all_finite, ensure_2d, allow_nd, ensure_min_samples, ensure_min_features, warn_on_dtype, estimator)\u001b[0m\n\u001b[1;32m    571\u001b[0m         \u001b[0;32mif\u001b[0m \u001b[0mforce_all_finite\u001b[0m\u001b[0;34m:\u001b[0m\u001b[0;34m\u001b[0m\u001b[0;34m\u001b[0m\u001b[0m\n\u001b[1;32m    572\u001b[0m             _assert_all_finite(array,\n\u001b[0;32m--> 573\u001b[0;31m                                allow_nan=force_all_finite == 'allow-nan')\n\u001b[0m\u001b[1;32m    574\u001b[0m \u001b[0;34m\u001b[0m\u001b[0m\n\u001b[1;32m    575\u001b[0m     \u001b[0mshape_repr\u001b[0m \u001b[0;34m=\u001b[0m \u001b[0m_shape_repr\u001b[0m\u001b[0;34m(\u001b[0m\u001b[0marray\u001b[0m\u001b[0;34m.\u001b[0m\u001b[0mshape\u001b[0m\u001b[0;34m)\u001b[0m\u001b[0;34m\u001b[0m\u001b[0;34m\u001b[0m\u001b[0m\n",
      "\u001b[0;32m~/Documents/env/lib/python3.6/site-packages/sklearn/utils/validation.py\u001b[0m in \u001b[0;36m_assert_all_finite\u001b[0;34m(X, allow_nan)\u001b[0m\n\u001b[1;32m     54\u001b[0m                 not allow_nan and not np.isfinite(X).all()):\n\u001b[1;32m     55\u001b[0m             \u001b[0mtype_err\u001b[0m \u001b[0;34m=\u001b[0m \u001b[0;34m'infinity'\u001b[0m \u001b[0;32mif\u001b[0m \u001b[0mallow_nan\u001b[0m \u001b[0;32melse\u001b[0m \u001b[0;34m'NaN, infinity'\u001b[0m\u001b[0;34m\u001b[0m\u001b[0;34m\u001b[0m\u001b[0m\n\u001b[0;32m---> 56\u001b[0;31m             \u001b[0;32mraise\u001b[0m \u001b[0mValueError\u001b[0m\u001b[0;34m(\u001b[0m\u001b[0mmsg_err\u001b[0m\u001b[0;34m.\u001b[0m\u001b[0mformat\u001b[0m\u001b[0;34m(\u001b[0m\u001b[0mtype_err\u001b[0m\u001b[0;34m,\u001b[0m \u001b[0mX\u001b[0m\u001b[0;34m.\u001b[0m\u001b[0mdtype\u001b[0m\u001b[0;34m)\u001b[0m\u001b[0;34m)\u001b[0m\u001b[0;34m\u001b[0m\u001b[0;34m\u001b[0m\u001b[0m\n\u001b[0m\u001b[1;32m     57\u001b[0m \u001b[0;34m\u001b[0m\u001b[0m\n\u001b[1;32m     58\u001b[0m \u001b[0;34m\u001b[0m\u001b[0m\n",
      "\u001b[0;31mValueError\u001b[0m: Input contains NaN, infinity or a value too large for dtype('float64')."
     ]
    }
   ],
   "source": [
    "reg = LinearRegression().fit(y.iloc[:,1:],y.iloc[:,0])"
   ]
  },
  {
   "cell_type": "code",
   "execution_count": null,
   "metadata": {},
   "outputs": [],
   "source": [
    "reg.score(y.iloc[:,1:],y.iloc[:,0])\n",
    "reg.coef_"
   ]
  },
  {
   "cell_type": "code",
   "execution_count": null,
   "metadata": {},
   "outputs": [],
   "source": [
    "reg.score(y.iloc[:,1:],y.iloc[:,0])"
   ]
  },
  {
   "cell_type": "code",
   "execution_count": null,
   "metadata": {},
   "outputs": [],
   "source": [
    "ans = reg.predict(y.iloc[:,1:])\n",
    "np.mean(ans)\n",
    "\n",
    "np.mean(y.iloc[:,0])"
   ]
  },
  {
   "cell_type": "code",
   "execution_count": null,
   "metadata": {},
   "outputs": [],
   "source": [
    "np.asarray(y.iloc[1,1:])"
   ]
  },
  {
   "cell_type": "code",
   "execution_count": null,
   "metadata": {},
   "outputs": [],
   "source": [
    "[3000,False,15,12,27.9,3903,990]"
   ]
  },
  {
   "cell_type": "code",
   "execution_count": null,
   "metadata": {},
   "outputs": [],
   "source": [
    "td = datetime.fromtimestamp(1570599938)\n",
    "print(int(td.strftime('%s')))"
   ]
  },
  {
   "cell_type": "code",
   "execution_count": null,
   "metadata": {},
   "outputs": [],
   "source": [
    "import seaborn as sns\n",
    "sns.set()\n",
    "ax = sns.heatmap(y.iloc[:,4:])"
   ]
  },
  {
   "cell_type": "code",
   "execution_count": null,
   "metadata": {},
   "outputs": [],
   "source": [
    "1499668200000-71367547723.42853"
   ]
  },
  {
   "cell_type": "code",
   "execution_count": null,
   "metadata": {},
   "outputs": [],
   "source": []
  },
  {
   "cell_type": "code",
   "execution_count": null,
   "metadata": {},
   "outputs": [],
   "source": []
  },
  {
   "cell_type": "code",
   "execution_count": null,
   "metadata": {},
   "outputs": [],
   "source": []
  },
  {
   "cell_type": "code",
   "execution_count": null,
   "metadata": {},
   "outputs": [],
   "source": []
  },
  {
   "cell_type": "code",
   "execution_count": null,
   "metadata": {},
   "outputs": [],
   "source": []
  },
  {
   "cell_type": "code",
   "execution_count": null,
   "metadata": {},
   "outputs": [],
   "source": [
    ".78\n",
    ".475584130932088\n",
    "-2.3\n",
    ".53\n",
    "\n",
    ".67\n",
    ".63\n",
    "-.83\n",
    ".38\n",
    "\n",
    ".21\n",
    "-.18\n",
    ".27\n",
    ".15\n",
    "\n"
   ]
  },
  {
   "cell_type": "code",
   "execution_count": null,
   "metadata": {},
   "outputs": [],
   "source": [
    "data = pd.read_csv(\".csv\")\n",
    "\n",
    "date = np.mean(data.iloc[:,5])\n",
    "date"
   ]
  },
  {
   "cell_type": "code",
   "execution_count": null,
   "metadata": {},
   "outputs": [],
   "source": [
    "mn = np.mean(data.iloc[:,5])\n",
    "mn"
   ]
  },
  {
   "cell_type": "code",
   "execution_count": null,
   "metadata": {},
   "outputs": [],
   "source": [
    "x,y = data_clean(data)\n",
    "\n",
    "#y.iloc[:,1:]\n",
    "ls = [0]\n",
    "ls2 = [0]\n",
    "dif = 0\n",
    "charge = 0\n",
    "for i in range(y.shape[0]-1):\n",
    "    #print(y.iloc[i+1,0])\n",
    "    charge+=((y.iloc[i,0]-y.iloc[i+1,0])*y.iloc[i,6])\n",
    "    ls.append(((y.iloc[i,0]-y.iloc[i+1,0])*y.iloc[i,6]))\n",
    "    if y.iloc[i,6]!=0:\n",
    "        ls2.append(y.iloc[i,5]/y.iloc[i,6])\n",
    "    if y.iloc[i,6]==0:\n",
    "        ls2.append(0)\n",
    "    if y.iloc[i,3]-y.iloc[i+1,3]==1:\n",
    "           dif+=1\n",
    "    if dif==100:\n",
    "        charge_limit = charge\n",
    "\n",
    "print(np.asarray(ls).shape) \n",
    "print(y.shape)\n",
    "y['charge'] = ls\n",
    "y['v/i'] = ls2\n",
    "\n",
    "y.head()"
   ]
  },
  {
   "cell_type": "code",
   "execution_count": null,
   "metadata": {},
   "outputs": [],
   "source": [
    "reg.score(y.iloc[:,1:],y.iloc[:,0])"
   ]
  },
  {
   "cell_type": "code",
   "execution_count": null,
   "metadata": {},
   "outputs": [],
   "source": [
    "y.head()"
   ]
  },
  {
   "cell_type": "code",
   "execution_count": null,
   "metadata": {},
   "outputs": [],
   "source": [
    "ans = reg.predict(y.iloc[:,1:])\n",
    "aa = np.mean(ans)\n",
    "aa"
   ]
  },
  {
   "cell_type": "code",
   "execution_count": null,
   "metadata": {},
   "outputs": [],
   "source": []
  },
  {
   "cell_type": "code",
   "execution_count": null,
   "metadata": {},
   "outputs": [],
   "source": [
    "a = np.mean(y.iloc[:,0])\n",
    "a"
   ]
  },
  {
   "cell_type": "code",
   "execution_count": null,
   "metadata": {},
   "outputs": [],
   "source": [
    "ansfinal = date-aa\n",
    "int(ansfinal)"
   ]
  },
  {
   "cell_type": "code",
   "execution_count": null,
   "metadata": {},
   "outputs": [],
   "source": [
    "td = datetime.fromtimestamp(int(ansfinal)/1000)\n",
    "td"
   ]
  },
  {
   "cell_type": "code",
   "execution_count": null,
   "metadata": {},
   "outputs": [],
   "source": []
  },
  {
   "cell_type": "code",
   "execution_count": null,
   "metadata": {},
   "outputs": [],
   "source": []
  },
  {
   "cell_type": "code",
   "execution_count": null,
   "metadata": {},
   "outputs": [],
   "source": []
  },
  {
   "cell_type": "code",
   "execution_count": null,
   "metadata": {},
   "outputs": [],
   "source": []
  }
 ],
 "metadata": {
  "kernelspec": {
   "display_name": "Python 3",
   "language": "python",
   "name": "python3"
  },
  "language_info": {
   "codemirror_mode": {
    "name": "ipython",
    "version": 3
   },
   "file_extension": ".py",
   "mimetype": "text/x-python",
   "name": "python",
   "nbconvert_exporter": "python",
   "pygments_lexer": "ipython3",
   "version": "3.6.7"
  }
 },
 "nbformat": 4,
 "nbformat_minor": 2
}
